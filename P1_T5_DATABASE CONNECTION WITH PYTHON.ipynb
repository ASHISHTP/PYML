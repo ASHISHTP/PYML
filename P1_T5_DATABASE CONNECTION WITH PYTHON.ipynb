{
 "cells": [
  {
   "cell_type": "markdown",
   "metadata": {},
   "source": [
    "# Using SQLite"
   ]
  },
  {
   "cell_type": "code",
   "execution_count": 1,
   "metadata": {
    "collapsed": true
   },
   "outputs": [],
   "source": [
    "import sqlite3"
   ]
  },
  {
   "cell_type": "code",
   "execution_count": 2,
   "metadata": {
    "collapsed": true
   },
   "outputs": [],
   "source": [
    "# Create a database in RAM\n",
    "db = sqlite3.connect(':memory:')"
   ]
  },
  {
   "cell_type": "code",
   "execution_count": 3,
   "metadata": {
    "collapsed": true
   },
   "outputs": [],
   "source": [
    "# Creates or opens a file called mydb with a SQLite3 DB\n",
    "db = sqlite3.connect('TestDB')"
   ]
  },
  {
   "cell_type": "code",
   "execution_count": 4,
   "metadata": {
    "collapsed": true
   },
   "outputs": [],
   "source": [
    "# To close the connection\n",
    "db.close()"
   ]
  },
  {
   "cell_type": "code",
   "execution_count": 5,
   "metadata": {},
   "outputs": [
    {
     "ename": "ProgrammingError",
     "evalue": "Cannot operate on a closed database.",
     "output_type": "error",
     "traceback": [
      "\u001b[1;31m---------------------------------------------------------------------------\u001b[0m",
      "\u001b[1;31mProgrammingError\u001b[0m                          Traceback (most recent call last)",
      "\u001b[1;32m<ipython-input-5-bc653bb144c8>\u001b[0m in \u001b[0;36m<module>\u001b[1;34m()\u001b[0m\n\u001b[0;32m      1\u001b[0m \u001b[1;31m## CREATe TABLE\u001b[0m\u001b[1;33m\u001b[0m\u001b[1;33m\u001b[0m\u001b[0m\n\u001b[0;32m      2\u001b[0m \u001b[1;31m# Get a cursor object\u001b[0m\u001b[1;33m\u001b[0m\u001b[1;33m\u001b[0m\u001b[0m\n\u001b[1;32m----> 3\u001b[1;33m \u001b[0mcur\u001b[0m \u001b[1;33m=\u001b[0m \u001b[0mdb\u001b[0m\u001b[1;33m.\u001b[0m\u001b[0mcursor\u001b[0m\u001b[1;33m(\u001b[0m\u001b[1;33m)\u001b[0m\u001b[1;33m\u001b[0m\u001b[0m\n\u001b[0m",
      "\u001b[1;31mProgrammingError\u001b[0m: Cannot operate on a closed database."
     ]
    }
   ],
   "source": [
    "## CREATe TABLE\n",
    "# Get a cursor object\n",
    "cur = db.cursor()"
   ]
  },
  {
   "cell_type": "markdown",
   "metadata": {},
   "source": [
    "# Creat DATABASE"
   ]
  },
  {
   "cell_type": "code",
   "execution_count": 6,
   "metadata": {
    "collapsed": true
   },
   "outputs": [],
   "source": [
    "db = sqlite3.connect('MyDB')\n",
    "\n",
    "# Get a cursor object\n",
    "cur = db.cursor()"
   ]
  },
  {
   "cell_type": "code",
   "execution_count": 7,
   "metadata": {},
   "outputs": [
    {
     "name": "stdout",
     "output_type": "stream",
     "text": [
      "Drop command successful\n"
     ]
    }
   ],
   "source": [
    "# Drop table if it already exist using execute() method.\n",
    "\n",
    "if cur.execute(\"DROP TABLE IF EXISTS custs\"):\n",
    "    print('Drop command successful')\n",
    "    "
   ]
  },
  {
   "cell_type": "code",
   "execution_count": 8,
   "metadata": {},
   "outputs": [
    {
     "name": "stdout",
     "output_type": "stream",
     "text": [
      "Table Created\n"
     ]
    }
   ],
   "source": [
    "# Create Table\n",
    "\n",
    "if cur.execute('CREATE TABLE custs(id INTEGER PRIMARY KEY, name TEXT, phone TEXT, email TEXT unique, course TEXT)'):\n",
    "    print('Table Created')"
   ]
  },
  {
   "cell_type": "code",
   "execution_count": 12,
   "metadata": {},
   "outputs": [
    {
     "ename": "ProgrammingError",
     "evalue": "Cannot operate on a closed database.",
     "output_type": "error",
     "traceback": [
      "\u001b[1;31m---------------------------------------------------------------------------\u001b[0m",
      "\u001b[1;31mProgrammingError\u001b[0m                          Traceback (most recent call last)",
      "\u001b[1;32m<ipython-input-12-1411d94ebbaf>\u001b[0m in \u001b[0;36m<module>\u001b[1;34m()\u001b[0m\n\u001b[1;32m----> 1\u001b[1;33m \u001b[0mdb\u001b[0m\u001b[1;33m.\u001b[0m\u001b[0mcommit\u001b[0m\u001b[1;33m(\u001b[0m\u001b[1;33m)\u001b[0m\u001b[1;33m\u001b[0m\u001b[0m\n\u001b[0m",
      "\u001b[1;31mProgrammingError\u001b[0m: Cannot operate on a closed database."
     ]
    }
   ],
   "source": [
    "db.commit()"
   ]
  },
  {
   "cell_type": "code",
   "execution_count": 13,
   "metadata": {},
   "outputs": [
    {
     "ename": "ProgrammingError",
     "evalue": "Cannot operate on a closed database.",
     "output_type": "error",
     "traceback": [
      "\u001b[1;31m---------------------------------------------------------------------------\u001b[0m",
      "\u001b[1;31mProgrammingError\u001b[0m                          Traceback (most recent call last)",
      "\u001b[1;32m<ipython-input-13-1ed7367755fe>\u001b[0m in \u001b[0;36m<module>\u001b[1;34m()\u001b[0m\n\u001b[1;32m----> 1\u001b[1;33m \u001b[0mcur\u001b[0m\u001b[1;33m.\u001b[0m\u001b[0mclose\u001b[0m\u001b[1;33m(\u001b[0m\u001b[1;33m)\u001b[0m\u001b[1;33m\u001b[0m\u001b[0m\n\u001b[0m",
      "\u001b[1;31mProgrammingError\u001b[0m: Cannot operate on a closed database."
     ]
    }
   ],
   "source": [
    "cur.close()"
   ]
  },
  {
   "cell_type": "code",
   "execution_count": 14,
   "metadata": {
    "collapsed": true
   },
   "outputs": [],
   "source": [
    "db.close()"
   ]
  },
  {
   "cell_type": "markdown",
   "metadata": {},
   "source": [
    "# Next Example"
   ]
  },
  {
   "cell_type": "code",
   "execution_count": 16,
   "metadata": {
    "collapsed": true
   },
   "outputs": [],
   "source": [
    "## Insert ##\n",
    "db = sqlite3.connect('MyDB')\n",
    "\n",
    "# Get a cursor object\n",
    "cur = db.cursor()"
   ]
  },
  {
   "cell_type": "code",
   "execution_count": 17,
   "metadata": {},
   "outputs": [
    {
     "name": "stdout",
     "output_type": "stream",
     "text": [
      "1 Record INserted Successfully\n"
     ]
    }
   ],
   "source": [
    "# Insert into custs\n",
    "\n",
    "if cur.execute('INSERT INTO custs(name,course) VALUES (?,?)',('Anup','Python')):\n",
    "    print('1 Record INserted Successfully')"
   ]
  },
  {
   "cell_type": "code",
   "execution_count": 18,
   "metadata": {},
   "outputs": [
    {
     "name": "stdout",
     "output_type": "stream",
     "text": [
      "2 Record INserted Successfully\n"
     ]
    }
   ],
   "source": [
    "if cur.execute('INSERT INTO custs(name,course) VALUES (?,?)',('Swaroop','Hadoop')):\n",
    "    print('2 Record INserted Successfully')"
   ]
  },
  {
   "cell_type": "code",
   "execution_count": 19,
   "metadata": {},
   "outputs": [
    {
     "name": "stdout",
     "output_type": "stream",
     "text": [
      "3 Record Inserted Successfully\n"
     ]
    }
   ],
   "source": [
    "# Insert into custs fron Dictionary\n",
    "\n",
    "if cur.execute('INSERT INTO custs(name,course) VALUES (:name,:course)',{'name':'Vishal','course':'Data Science'}):\n",
    "    print('3 Record Inserted Successfully')"
   ]
  },
  {
   "cell_type": "code",
   "execution_count": 20,
   "metadata": {},
   "outputs": [
    {
     "name": "stdout",
     "output_type": "stream",
     "text": [
      "4 Record Inserted Successfully\n"
     ]
    }
   ],
   "source": [
    "# Insert into custs using executemany\n",
    "\n",
    "if cur.executemany('INSERT INTO custs(name,course) VALUES (?,?)',[('Pranay','Web App'),('Viraj','Android')]):\n",
    "    print('4 Record Inserted Successfully')"
   ]
  },
  {
   "cell_type": "code",
   "execution_count": 21,
   "metadata": {
    "collapsed": true
   },
   "outputs": [],
   "source": [
    "db.commit()\n",
    "cur.close()\n",
    "db.close()"
   ]
  },
  {
   "cell_type": "markdown",
   "metadata": {},
   "source": [
    "# SELECT"
   ]
  },
  {
   "cell_type": "code",
   "execution_count": 22,
   "metadata": {
    "collapsed": true
   },
   "outputs": [],
   "source": [
    "db = sqlite3.connect('MyDB')\n",
    "\n",
    "# Get a cursor object\n",
    "cur = db.cursor()"
   ]
  },
  {
   "cell_type": "code",
   "execution_count": 23,
   "metadata": {},
   "outputs": [
    {
     "name": "stdout",
     "output_type": "stream",
     "text": [
      "Record cursor is ready\n",
      "------------------------------\n"
     ]
    }
   ],
   "source": [
    "# Select cursor from custs\n",
    "if cur.execute('SELECT name,course from custs'):\n",
    "    print('Record cursor is ready')\n",
    "print('------------------------------')"
   ]
  },
  {
   "cell_type": "code",
   "execution_count": 24,
   "metadata": {},
   "outputs": [
    {
     "name": "stdout",
     "output_type": "stream",
     "text": [
      "('Anup', 'Python')\n",
      "------------------------------\n"
     ]
    }
   ],
   "source": [
    "# Fetch using fetchone()\n",
    "record1 = cur.fetchone()\n",
    "print(record1)\n",
    "print('------------------------------')"
   ]
  },
  {
   "cell_type": "code",
   "execution_count": 25,
   "metadata": {},
   "outputs": [
    {
     "name": "stdout",
     "output_type": "stream",
     "text": [
      "Swaroop,Hadoop\n",
      "Vishal,Data Science\n",
      "Pranay,Web App\n",
      "Viraj,Android\n"
     ]
    }
   ],
   "source": [
    "# Fetch using fetchall()\n",
    "recordall = cur.fetchall()\n",
    "for record in recordall:\n",
    "    print('{0},{1}'.format(record[0],record[1]))"
   ]
  },
  {
   "cell_type": "code",
   "execution_count": 26,
   "metadata": {
    "collapsed": true
   },
   "outputs": [],
   "source": [
    "db.commit()\n",
    "cur.close()\n",
    "db.close()"
   ]
  },
  {
   "cell_type": "code",
   "execution_count": null,
   "metadata": {
    "collapsed": true
   },
   "outputs": [],
   "source": [
    "### SELECT CONTINUE ###"
   ]
  },
  {
   "cell_type": "code",
   "execution_count": 12,
   "metadata": {
    "collapsed": true
   },
   "outputs": [],
   "source": [
    "import sqlite3"
   ]
  },
  {
   "cell_type": "code",
   "execution_count": 13,
   "metadata": {
    "collapsed": true
   },
   "outputs": [],
   "source": [
    "db = sqlite3.connect('MyDB')\n",
    "\n",
    "# Get a cursor object\n",
    "cur = db.cursor()"
   ]
  },
  {
   "cell_type": "code",
   "execution_count": 3,
   "metadata": {},
   "outputs": [
    {
     "name": "stdout",
     "output_type": "stream",
     "text": [
      "Record cursor is ready\n",
      "--------------------\n"
     ]
    }
   ],
   "source": [
    "# Select cursor from custs\n",
    "if cur.execute('SELECT name,course from custs'):\n",
    "    print('Record cursor is ready')\n",
    "    print('--------------------')"
   ]
  },
  {
   "cell_type": "code",
   "execution_count": 4,
   "metadata": {},
   "outputs": [
    {
     "name": "stdout",
     "output_type": "stream",
     "text": [
      "Anup,Python\n",
      "Swaroop,Hadoop\n",
      "Vishal,Data Science\n",
      "Pranay,Web App\n",
      "Viraj,Android\n"
     ]
    }
   ],
   "source": [
    "# Cursor object used as iterator\n",
    "\n",
    "for record in cur:\n",
    "    print('{0},{1}'.format(record[0],record[1]))"
   ]
  },
  {
   "cell_type": "code",
   "execution_count": 10,
   "metadata": {},
   "outputs": [
    {
     "name": "stdout",
     "output_type": "stream",
     "text": [
      "Record cursor is ready\n",
      "--------------------\n"
     ]
    }
   ],
   "source": [
    "# Select with where clause\n",
    "\n",
    "if cur.execute('SELECT name,course FROM custs WHERE course=?',('Python',)):\n",
    "    print('Record cursor is ready')\n",
    "    print('--------------------')"
   ]
  },
  {
   "cell_type": "code",
   "execution_count": 11,
   "metadata": {},
   "outputs": [
    {
     "name": "stdout",
     "output_type": "stream",
     "text": [
      "Anup,Python\n"
     ]
    }
   ],
   "source": [
    "# Cursor object used as iterator\n",
    "\n",
    "for record in cur:\n",
    "    print('{0},{1}'.format(record[0],record[1]))"
   ]
  },
  {
   "cell_type": "code",
   "execution_count": 14,
   "metadata": {
    "collapsed": true
   },
   "outputs": [],
   "source": [
    "db.commit()\n",
    "cur.close()\n",
    "db.close()"
   ]
  },
  {
   "cell_type": "markdown",
   "metadata": {},
   "source": [
    "# UPDATE"
   ]
  },
  {
   "cell_type": "code",
   "execution_count": 15,
   "metadata": {
    "collapsed": true
   },
   "outputs": [],
   "source": [
    "import sqlite3"
   ]
  },
  {
   "cell_type": "code",
   "execution_count": 16,
   "metadata": {
    "collapsed": true
   },
   "outputs": [],
   "source": [
    "db = sqlite3.connect('MyDB')\n",
    "\n",
    "# Get a cursor object\n",
    "cur = db.cursor()"
   ]
  },
  {
   "cell_type": "code",
   "execution_count": 17,
   "metadata": {},
   "outputs": [
    {
     "name": "stdout",
     "output_type": "stream",
     "text": [
      "Record updated successfully\n"
     ]
    }
   ],
   "source": [
    "# Insert into custs\n",
    "if cur.execute('UPDATE custs SET course=? WHERE name=?',('Spark','Anup')):\n",
    "    print('Record updated successfully')"
   ]
  },
  {
   "cell_type": "code",
   "execution_count": 18,
   "metadata": {},
   "outputs": [
    {
     "name": "stdout",
     "output_type": "stream",
     "text": [
      "Record cursor is ready\n",
      "--------------------\n"
     ]
    }
   ],
   "source": [
    "# Select with where clause\n",
    "if cur.execute('SELECT name,course FROM custs WHERE name=?',('Anup',)):\n",
    "    print('Record cursor is ready')\n",
    "    print('--------------------')"
   ]
  },
  {
   "cell_type": "code",
   "execution_count": 19,
   "metadata": {},
   "outputs": [
    {
     "name": "stdout",
     "output_type": "stream",
     "text": [
      "Anup,Spark\n"
     ]
    }
   ],
   "source": [
    "# cursor object used as iterator\n",
    "for record in cur:\n",
    "    print('{0},{1}'.format(record[0],record[1]))"
   ]
  },
  {
   "cell_type": "code",
   "execution_count": 20,
   "metadata": {
    "collapsed": true
   },
   "outputs": [],
   "source": [
    "db.commit()\n",
    "cur.close()\n",
    "db.close()"
   ]
  },
  {
   "cell_type": "markdown",
   "metadata": {},
   "source": [
    "# Delete(CRUD Operation)"
   ]
  },
  {
   "cell_type": "code",
   "execution_count": 21,
   "metadata": {
    "collapsed": true
   },
   "outputs": [],
   "source": [
    "db = sqlite3.connect('MyDB')\n",
    "\n",
    "# Get a cursor object\n",
    "cur = db.cursor()"
   ]
  },
  {
   "cell_type": "code",
   "execution_count": 22,
   "metadata": {},
   "outputs": [
    {
     "name": "stdout",
     "output_type": "stream",
     "text": [
      "Record cursor is ready\n",
      "--------------------\n"
     ]
    }
   ],
   "source": [
    "# Insert into custs\n",
    "if cur.execute('DELETE FROM custs WHERE name=?',('Swaroop',)):\n",
    "    print('Record cursor is ready')\n",
    "    print('--------------------')"
   ]
  },
  {
   "cell_type": "code",
   "execution_count": 23,
   "metadata": {},
   "outputs": [
    {
     "name": "stdout",
     "output_type": "stream",
     "text": [
      "Record cursor is ready\n",
      "--------------------\n"
     ]
    }
   ],
   "source": [
    "# Select cursor for custs\n",
    "if cur.execute('SELECT name,course FROM custs'):\n",
    "    print('Record cursor is ready')\n",
    "    print('--------------------')"
   ]
  },
  {
   "cell_type": "code",
   "execution_count": 24,
   "metadata": {},
   "outputs": [
    {
     "name": "stdout",
     "output_type": "stream",
     "text": [
      "Anup,Spark\n",
      "Vishal,Data Science\n",
      "Pranay,Web App\n",
      "Viraj,Android\n"
     ]
    }
   ],
   "source": [
    "# Cursor object used as iterator\n",
    "for record in cur:\n",
    "    print('{0},{1}'.format(record[0],record[1]))"
   ]
  },
  {
   "cell_type": "code",
   "execution_count": 25,
   "metadata": {
    "collapsed": true
   },
   "outputs": [],
   "source": [
    "db.commit()"
   ]
  },
  {
   "cell_type": "code",
   "execution_count": 26,
   "metadata": {
    "collapsed": true
   },
   "outputs": [],
   "source": [
    "\n",
    "cur.close()\n",
    "db.close()"
   ]
  },
  {
   "cell_type": "code",
   "execution_count": 27,
   "metadata": {
    "collapsed": true
   },
   "outputs": [],
   "source": [
    "db = sqlite3.connect('MyDB')\n",
    "\n",
    "# Get a cursor object\n",
    "cur = db.cursor()"
   ]
  },
  {
   "cell_type": "code",
   "execution_count": 28,
   "metadata": {},
   "outputs": [
    {
     "name": "stdout",
     "output_type": "stream",
     "text": [
      "Record cursor is ready\n",
      "--------------------\n"
     ]
    }
   ],
   "source": [
    "# Insert into custs\n",
    "if cur.execute('DELETE FROM custs WHERE name=?',('Vishal',)):\n",
    "    print('Record cursor is ready')\n",
    "    print('--------------------')"
   ]
  },
  {
   "cell_type": "code",
   "execution_count": 29,
   "metadata": {},
   "outputs": [
    {
     "name": "stdout",
     "output_type": "stream",
     "text": [
      "Record cursor is ready\n",
      "--------------------\n"
     ]
    }
   ],
   "source": [
    "# Select cursor for custs\n",
    "if cur.execute('SELECT name,course FROM custs'):\n",
    "    print('Record cursor is ready')\n",
    "    print('--------------------')"
   ]
  },
  {
   "cell_type": "code",
   "execution_count": 30,
   "metadata": {},
   "outputs": [
    {
     "name": "stdout",
     "output_type": "stream",
     "text": [
      "Anup,Spark\n",
      "Pranay,Web App\n",
      "Viraj,Android\n"
     ]
    }
   ],
   "source": [
    "# Cursor object used as iterator\n",
    "for record in cur:\n",
    "    print('{0},{1}'.format(record[0],record[1]))"
   ]
  },
  {
   "cell_type": "code",
   "execution_count": 33,
   "metadata": {
    "collapsed": true
   },
   "outputs": [],
   "source": [
    "db.rollback()"
   ]
  },
  {
   "cell_type": "code",
   "execution_count": 34,
   "metadata": {},
   "outputs": [
    {
     "name": "stdout",
     "output_type": "stream",
     "text": [
      "Record cursor is ready\n",
      "--------------------\n"
     ]
    }
   ],
   "source": [
    "# Select cursor for custs\n",
    "if cur.execute('SELECT name,course FROM custs'):\n",
    "    print('Record cursor is ready')\n",
    "    print('--------------------')"
   ]
  },
  {
   "cell_type": "code",
   "execution_count": 35,
   "metadata": {},
   "outputs": [
    {
     "name": "stdout",
     "output_type": "stream",
     "text": [
      "Anup,Spark\n",
      "Vishal,Data Science\n",
      "Pranay,Web App\n",
      "Viraj,Android\n"
     ]
    }
   ],
   "source": [
    "# Cursor object used as iterator\n",
    "for record in cur:\n",
    "    print('{0},{1}'.format(record[0],record[1]))"
   ]
  },
  {
   "cell_type": "code",
   "execution_count": 36,
   "metadata": {
    "collapsed": true
   },
   "outputs": [],
   "source": [
    "db.commit()\n",
    "cur.close()\n",
    "db.close()"
   ]
  },
  {
   "cell_type": "code",
   "execution_count": 37,
   "metadata": {
    "collapsed": true
   },
   "outputs": [],
   "source": [
    "db = sqlite3.connect('MyDB')\n",
    "\n",
    "# Get a cursor object\n",
    "cur = db.cursor()"
   ]
  },
  {
   "cell_type": "code",
   "execution_count": 38,
   "metadata": {},
   "outputs": [
    {
     "name": "stdout",
     "output_type": "stream",
     "text": [
      "Table is dropped successfully!\n"
     ]
    }
   ],
   "source": [
    "if cur.execute('DROP TABLE custs'):\n",
    "    print('Table is dropped successfully!')"
   ]
  },
  {
   "cell_type": "markdown",
   "metadata": {},
   "source": [
    "# NEW TASK"
   ]
  },
  {
   "cell_type": "code",
   "execution_count": 39,
   "metadata": {
    "collapsed": true
   },
   "outputs": [],
   "source": [
    "import sqlite3"
   ]
  },
  {
   "cell_type": "code",
   "execution_count": 42,
   "metadata": {
    "collapsed": true
   },
   "outputs": [],
   "source": [
    "db = sqlite3.connect('TASK')\n",
    "\n",
    "# Get a cursor object\n",
    "cur = db.cursor()"
   ]
  },
  {
   "cell_type": "code",
   "execution_count": 43,
   "metadata": {},
   "outputs": [
    {
     "name": "stdout",
     "output_type": "stream",
     "text": [
      "Table Created!\n"
     ]
    }
   ],
   "source": [
    "# Creat Table\n",
    "\n",
    "if cur.execute('CREATE TABLE number(one INTEGER,two INTEGER,three INTEGER,four INTEGER, five INTEGER)'):\n",
    "    print('Table Created!')"
   ]
  },
  {
   "cell_type": "code",
   "execution_count": 46,
   "metadata": {},
   "outputs": [
    {
     "name": "stdout",
     "output_type": "stream",
     "text": [
      "1 Record INserted Successfully\n"
     ]
    }
   ],
   "source": [
    "# Insert into number\n",
    "\n",
    "if cur.execute('INSERT INTO number(one,two,three,four,five) VALUES (?,?,?,?,?)',(1,2,3,4,5)):\n",
    "    print('1 Record INserted Successfully')"
   ]
  },
  {
   "cell_type": "code",
   "execution_count": 47,
   "metadata": {},
   "outputs": [
    {
     "name": "stdout",
     "output_type": "stream",
     "text": [
      "2 Record INserted Successfully\n"
     ]
    }
   ],
   "source": [
    "# Insert into number\n",
    "\n",
    "if cur.execute('INSERT INTO number(one,two,three,four,five) VALUES (?,?,?,?,?)',(2,4,6,8,10)):\n",
    "    print('2 Record INserted Successfully')"
   ]
  },
  {
   "cell_type": "code",
   "execution_count": 48,
   "metadata": {},
   "outputs": [
    {
     "name": "stdout",
     "output_type": "stream",
     "text": [
      "3 Record INserted Successfully\n"
     ]
    }
   ],
   "source": [
    "# Insert into number\n",
    "\n",
    "if cur.execute('INSERT INTO number(one,two,three,four,five) VALUES (?,?,?,?,?)',(3,6,9,12,15)):\n",
    "    print('3 Record INserted Successfully')"
   ]
  },
  {
   "cell_type": "code",
   "execution_count": 49,
   "metadata": {},
   "outputs": [
    {
     "name": "stdout",
     "output_type": "stream",
     "text": [
      "4 Record INserted Successfully\n"
     ]
    }
   ],
   "source": [
    "# Insert into number\n",
    "\n",
    "if cur.execute('INSERT INTO number(one,two,three,four,five) VALUES (?,?,?,?,?)',(4,8,12,16,20)):\n",
    "    print('4 Record INserted Successfully')"
   ]
  },
  {
   "cell_type": "code",
   "execution_count": 50,
   "metadata": {},
   "outputs": [
    {
     "name": "stdout",
     "output_type": "stream",
     "text": [
      "5 Record INserted Successfully\n"
     ]
    }
   ],
   "source": [
    "# Insert into number\n",
    "\n",
    "if cur.execute('INSERT INTO number(one,two,three,four,five) VALUES (?,?,?,?,?)',(5,10,15,20,25)):\n",
    "    print('5 Record INserted Successfully')"
   ]
  },
  {
   "cell_type": "code",
   "execution_count": 51,
   "metadata": {
    "collapsed": true
   },
   "outputs": [],
   "source": [
    "for i in range(1,10+1,1):\n",
    "    cur.execute('INSERT INTO number(one,two,three,four,five) VALUES(?,?,?,?,?)',(1*i,2*i,3*i,4*i,5*i))"
   ]
  },
  {
   "cell_type": "code",
   "execution_count": 58,
   "metadata": {},
   "outputs": [
    {
     "name": "stdout",
     "output_type": "stream",
     "text": [
      "1 2 3 4 5\n",
      "2 4 6 8 10\n",
      "3 6 9 12 15\n",
      "4 8 12 16 20\n",
      "5 10 15 20 25\n",
      "1 2 3 4 5\n",
      "2 4 6 8 10\n",
      "3 6 9 12 15\n",
      "4 8 12 16 20\n",
      "5 10 15 20 25\n",
      "6 12 18 24 30\n",
      "7 14 21 28 35\n",
      "8 16 24 32 40\n",
      "9 18 27 36 45\n",
      "10 20 30 40 50\n"
     ]
    }
   ],
   "source": [
    "cur.execute('SELECT * FROM number')\n",
    "for i in cur:\n",
    "    print(i[0],i[1],i[2],i[3],i[4])"
   ]
  },
  {
   "cell_type": "code",
   "execution_count": 59,
   "metadata": {
    "collapsed": true
   },
   "outputs": [],
   "source": [
    "db.commit()\n",
    "cur.close()\n",
    "db.close()"
   ]
  },
  {
   "cell_type": "code",
   "execution_count": null,
   "metadata": {
    "collapsed": true
   },
   "outputs": [],
   "source": []
  }
 ],
 "metadata": {
  "kernelspec": {
   "display_name": "Python 3",
   "language": "python",
   "name": "python3"
  },
  "language_info": {
   "codemirror_mode": {
    "name": "ipython",
    "version": 3
   },
   "file_extension": ".py",
   "mimetype": "text/x-python",
   "name": "python",
   "nbconvert_exporter": "python",
   "pygments_lexer": "ipython3",
   "version": "3.6.3"
  }
 },
 "nbformat": 4,
 "nbformat_minor": 2
}
