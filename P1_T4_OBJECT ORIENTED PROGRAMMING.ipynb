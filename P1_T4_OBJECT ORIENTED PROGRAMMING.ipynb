{
 "cells": [
  {
   "cell_type": "markdown",
   "metadata": {
    "collapsed": true
   },
   "source": [
    "# Classes"
   ]
  },
  {
   "cell_type": "code",
   "execution_count": 1,
   "metadata": {
    "collapsed": true
   },
   "outputs": [],
   "source": [
    "class Person:\n",
    "    pass # An empty block"
   ]
  },
  {
   "cell_type": "code",
   "execution_count": 2,
   "metadata": {},
   "outputs": [
    {
     "name": "stdout",
     "output_type": "stream",
     "text": [
      "<__main__.Person object at 0x000002284E82C518>\n"
     ]
    }
   ],
   "source": [
    "p=Person()\n",
    "print(p)"
   ]
  },
  {
   "cell_type": "markdown",
   "metadata": {},
   "source": [
    "# The self"
   ]
  },
  {
   "cell_type": "code",
   "execution_count": 3,
   "metadata": {
    "collapsed": true
   },
   "outputs": [],
   "source": [
    "class Person:\n",
    "    def say_hi(self):\n",
    "        print('Hello,how are you?')"
   ]
  },
  {
   "cell_type": "code",
   "execution_count": 4,
   "metadata": {},
   "outputs": [
    {
     "name": "stdout",
     "output_type": "stream",
     "text": [
      "Hello,how are you?\n"
     ]
    }
   ],
   "source": [
    "p = Person()\n",
    "p.say_hi()"
   ]
  },
  {
   "cell_type": "markdown",
   "metadata": {},
   "source": [
    "# The init method"
   ]
  },
  {
   "cell_type": "code",
   "execution_count": 5,
   "metadata": {
    "collapsed": true
   },
   "outputs": [],
   "source": [
    "class Person:\n",
    "    def __init__(self,name):\n",
    "        self.name = name\n",
    "p = Person('Swapnil')\n",
    "q = Person('Anil')"
   ]
  },
  {
   "cell_type": "code",
   "execution_count": 6,
   "metadata": {},
   "outputs": [
    {
     "name": "stdout",
     "output_type": "stream",
     "text": [
      "Swapnil\n"
     ]
    }
   ],
   "source": [
    "print(p.name)"
   ]
  },
  {
   "cell_type": "code",
   "execution_count": 7,
   "metadata": {},
   "outputs": [
    {
     "name": "stdout",
     "output_type": "stream",
     "text": [
      "Anil\n"
     ]
    }
   ],
   "source": [
    "print(q.name)"
   ]
  },
  {
   "cell_type": "markdown",
   "metadata": {},
   "source": [
    "# Class and Object variables"
   ]
  },
  {
   "cell_type": "code",
   "execution_count": 24,
   "metadata": {
    "collapsed": true
   },
   "outputs": [],
   "source": [
    "class Robot:\n",
    "    '''Represents a robot , with a name'''\n",
    "    # A class variable , counting the number of robots\n",
    "    population=0\n",
    "    \n",
    "    def __init__(self,name):\n",
    "        '''Initializes the data.'''\n",
    "        self.name = name\n",
    "        print(\"Initializing {}\".format(self.name))\n",
    "        # When this robot is created,the robot adds to the population\n",
    "        Robot.population += 1\n",
    "        \n",
    "    def die(self):\n",
    "        '''I am dying.'''\n",
    "        print(\"{} is being destroyed!\".format(self.name))\n",
    "        Robot.population -= 1\n",
    "        if Robot.population == 0:\n",
    "            print(\"{} was the last one.\".format(self.name))\n",
    "        else:\n",
    "            print(\"There are still {:d} robots working\".format(Robot.population))\n",
    "            \n",
    "    def say_hi(self):\n",
    "        '''Greeting by the robot.\n",
    "            Yeah, they can do that.'''\n",
    "        print(\"Greeting, my masters call me {}.\".format(self.name))\n",
    "        \n",
    "    @classmethod\n",
    "    def how_many(cls):\n",
    "        '''Prints the current population.'''\n",
    "        print(\"We have {:d} robots.\".format(cls.population))\n",
    "              "
   ]
  },
  {
   "cell_type": "code",
   "execution_count": 25,
   "metadata": {},
   "outputs": [
    {
     "name": "stdout",
     "output_type": "stream",
     "text": [
      "Initializing R1-D1\n",
      "Greeting, my masters call me R1-D1.\n"
     ]
    }
   ],
   "source": [
    "droid1 = Robot(\"R1-D1\")\n",
    "droid1.say_hi()"
   ]
  },
  {
   "cell_type": "code",
   "execution_count": 26,
   "metadata": {},
   "outputs": [
    {
     "name": "stdout",
     "output_type": "stream",
     "text": [
      "We have 1 robots.\n"
     ]
    }
   ],
   "source": [
    "Robot.how_many()"
   ]
  },
  {
   "cell_type": "code",
   "execution_count": 27,
   "metadata": {},
   "outputs": [
    {
     "name": "stdout",
     "output_type": "stream",
     "text": [
      "Initializing R2-D2\n",
      "Greeting, my masters call me R2-D2.\n"
     ]
    }
   ],
   "source": [
    "droid2 = Robot(\"R2-D2\")\n",
    "droid2.say_hi()"
   ]
  },
  {
   "cell_type": "code",
   "execution_count": 28,
   "metadata": {},
   "outputs": [
    {
     "name": "stdout",
     "output_type": "stream",
     "text": [
      "We have 2 robots.\n"
     ]
    }
   ],
   "source": [
    "Robot.how_many()"
   ]
  },
  {
   "cell_type": "code",
   "execution_count": 29,
   "metadata": {},
   "outputs": [
    {
     "name": "stdout",
     "output_type": "stream",
     "text": [
      "Initializing R2-D2\n",
      "Greeting, my masters call me R2-D2.\n"
     ]
    }
   ],
   "source": [
    "droid2 = Robot(\"R2-D2\")\n",
    "droid2.say_hi()"
   ]
  },
  {
   "cell_type": "code",
   "execution_count": 30,
   "metadata": {},
   "outputs": [
    {
     "name": "stdout",
     "output_type": "stream",
     "text": [
      "We have 3 robots.\n"
     ]
    }
   ],
   "source": [
    "Robot.how_many()"
   ]
  },
  {
   "cell_type": "code",
   "execution_count": 32,
   "metadata": {},
   "outputs": [
    {
     "name": "stdout",
     "output_type": "stream",
     "text": [
      "R1-D1 is being destroyed!\n",
      "There are still 2 robots working\n"
     ]
    }
   ],
   "source": [
    "droid1.die()"
   ]
  },
  {
   "cell_type": "code",
   "execution_count": 33,
   "metadata": {},
   "outputs": [
    {
     "name": "stdout",
     "output_type": "stream",
     "text": [
      "R2-D2 is being destroyed!\n",
      "There are still 1 robots working\n"
     ]
    }
   ],
   "source": [
    "droid2.die()"
   ]
  },
  {
   "cell_type": "code",
   "execution_count": 34,
   "metadata": {},
   "outputs": [
    {
     "name": "stdout",
     "output_type": "stream",
     "text": [
      "We have 1 robots.\n"
     ]
    }
   ],
   "source": [
    "Robot.how_many()"
   ]
  },
  {
   "cell_type": "code",
   "execution_count": 35,
   "metadata": {},
   "outputs": [
    {
     "name": "stdout",
     "output_type": "stream",
     "text": [
      "Greeting by the robot.\n",
      "            Yeah, they can do that.\n"
     ]
    }
   ],
   "source": [
    "print(droid1.say_hi.__doc__)"
   ]
  },
  {
   "cell_type": "code",
   "execution_count": 36,
   "metadata": {},
   "outputs": [
    {
     "name": "stdout",
     "output_type": "stream",
     "text": [
      "I am dying.\n"
     ]
    }
   ],
   "source": [
    "print(droid1.die.__doc__)"
   ]
  },
  {
   "cell_type": "markdown",
   "metadata": {},
   "source": [
    "# Inheritance"
   ]
  },
  {
   "cell_type": "code",
   "execution_count": 37,
   "metadata": {
    "collapsed": true
   },
   "outputs": [],
   "source": [
    "class SchoolMember:\n",
    "    '''Represents any school member.'''\n",
    "    def __init__(self,name,age):\n",
    "        self.name = name\n",
    "        self.age = age\n",
    "        \n",
    "        print(\"Initialized SchoolMember: {}\".format(self.name))\n",
    "    def tell(self):\n",
    "        '''Tell me details.'''\n",
    "        print('Name:{} Age:{}'.format(self.name,self.age))\n",
    "        "
   ]
  },
  {
   "cell_type": "code",
   "execution_count": 38,
   "metadata": {
    "collapsed": true
   },
   "outputs": [],
   "source": [
    "class Teacher:\n",
    "    '''Represents a teacher.'''\n",
    "    def __init__(self,name,age,salary):\n",
    "        SchoolMember.__init__(self,name,age)\n",
    "        self.salary = salary\n",
    "        print('Initialized Teacher: {}'.format(self.name))\n",
    "        \n",
    "    def tell(self):\n",
    "        SchoolMember.tell(self)\n",
    "        print('Salary: {:d}'.format(self.salary))    "
   ]
  },
  {
   "cell_type": "code",
   "execution_count": 40,
   "metadata": {
    "collapsed": true
   },
   "outputs": [],
   "source": [
    "class Student:\n",
    "    '''Represents a student.'''\n",
    "    def __init__(self,name,age,marks):\n",
    "        SchoolMember.__init__(self,name,age)\n",
    "        self.marks = marks\n",
    "        print('Initialized Student: {}'.format(self.name))\n",
    "        \n",
    "    def tell(self):\n",
    "        SchoolMember.tell(self)\n",
    "        print('Marks: {:d}'.format(self.marks))"
   ]
  },
  {
   "cell_type": "code",
   "execution_count": 42,
   "metadata": {},
   "outputs": [
    {
     "name": "stdout",
     "output_type": "stream",
     "text": [
      "Initialized SchoolMember: Mr. Shree\n",
      "Initialized Teacher: Mr. Shree\n"
     ]
    }
   ],
   "source": [
    "t = Teacher('Mr. Shree',40,30000)"
   ]
  },
  {
   "cell_type": "code",
   "execution_count": 43,
   "metadata": {},
   "outputs": [
    {
     "name": "stdout",
     "output_type": "stream",
     "text": [
      "Initialized SchoolMember: Swapnil\n",
      "Initialized Student: Swapnil\n"
     ]
    }
   ],
   "source": [
    "s = Student('Swapnil',25,75)"
   ]
  },
  {
   "cell_type": "code",
   "execution_count": 45,
   "metadata": {},
   "outputs": [
    {
     "data": {
      "text/plain": [
       "30000"
      ]
     },
     "execution_count": 45,
     "metadata": {},
     "output_type": "execute_result"
    }
   ],
   "source": [
    "t.salary"
   ]
  },
  {
   "cell_type": "code",
   "execution_count": 46,
   "metadata": {},
   "outputs": [
    {
     "data": {
      "text/plain": [
       "75"
      ]
     },
     "execution_count": 46,
     "metadata": {},
     "output_type": "execute_result"
    }
   ],
   "source": [
    "s.marks"
   ]
  },
  {
   "cell_type": "code",
   "execution_count": 47,
   "metadata": {},
   "outputs": [
    {
     "name": "stdout",
     "output_type": "stream",
     "text": [
      "Name:Swapnil Age:25\n",
      "Marks: 75\n"
     ]
    }
   ],
   "source": [
    "s.tell()"
   ]
  },
  {
   "cell_type": "code",
   "execution_count": 48,
   "metadata": {},
   "outputs": [
    {
     "name": "stdout",
     "output_type": "stream",
     "text": [
      "Name:Mr. Shree Age:40\n",
      "Salary: 30000\n"
     ]
    }
   ],
   "source": [
    "t.tell()"
   ]
  },
  {
   "cell_type": "code",
   "execution_count": 49,
   "metadata": {},
   "outputs": [
    {
     "name": "stdout",
     "output_type": "stream",
     "text": [
      "Name:Mr. Shree Age:40\n",
      "Salary: 30000\n",
      "Name:Swapnil Age:25\n",
      "Marks: 75\n"
     ]
    }
   ],
   "source": [
    "members = [t,s]\n",
    "for member in members:\n",
    "    # Work for both Teacher and Student\n",
    "    member.tell()"
   ]
  },
  {
   "cell_type": "code",
   "execution_count": null,
   "metadata": {
    "collapsed": true
   },
   "outputs": [],
   "source": []
  }
 ],
 "metadata": {
  "kernelspec": {
   "display_name": "Python 3",
   "language": "python",
   "name": "python3"
  },
  "language_info": {
   "codemirror_mode": {
    "name": "ipython",
    "version": 3
   },
   "file_extension": ".py",
   "mimetype": "text/x-python",
   "name": "python",
   "nbconvert_exporter": "python",
   "pygments_lexer": "ipython3",
   "version": "3.6.3"
  }
 },
 "nbformat": 4,
 "nbformat_minor": 2
}
