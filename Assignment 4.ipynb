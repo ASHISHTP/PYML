{
 "cells": [
  {
   "cell_type": "markdown",
   "metadata": {},
   "source": [
    "# Q1. "
   ]
  },
  {
   "cell_type": "code",
   "execution_count": 18,
   "metadata": {},
   "outputs": [],
   "source": [
    "class Rocket:\n",
    "    y = 0\n",
    "    def __init__(self,x,y):\n",
    "        self.x = x\n",
    "        self.y = y\n",
    "        print(\"Rocket object's x value is {:d} and y value is {:d}\".format(self.x,self.y))\n",
    "        \n",
    "    def move_up(self,y1):\n",
    "        self.y1 = y1\n",
    "        print(\"Rocket is moved up by value {:d}\".format(self.y1))\n",
    "        self.y = self.y + y1"
   ]
  },
  {
   "cell_type": "code",
   "execution_count": 19,
   "metadata": {},
   "outputs": [
    {
     "name": "stdout",
     "output_type": "stream",
     "text": [
      "Rocket object's x value is 3 and y value is 4\n"
     ]
    }
   ],
   "source": [
    "r = Rocket(3,4)"
   ]
  },
  {
   "cell_type": "code",
   "execution_count": 20,
   "metadata": {},
   "outputs": [
    {
     "data": {
      "text/plain": [
       "4"
      ]
     },
     "execution_count": 20,
     "metadata": {},
     "output_type": "execute_result"
    }
   ],
   "source": [
    "r.y"
   ]
  },
  {
   "cell_type": "code",
   "execution_count": 21,
   "metadata": {},
   "outputs": [
    {
     "name": "stdout",
     "output_type": "stream",
     "text": [
      "Rocket is moved up by value 5\n"
     ]
    }
   ],
   "source": [
    "r.move_up(5)"
   ]
  },
  {
   "cell_type": "code",
   "execution_count": 22,
   "metadata": {},
   "outputs": [
    {
     "data": {
      "text/plain": [
       "9"
      ]
     },
     "execution_count": 22,
     "metadata": {},
     "output_type": "execute_result"
    }
   ],
   "source": [
    "r.y"
   ]
  },
  {
   "cell_type": "code",
   "execution_count": 23,
   "metadata": {},
   "outputs": [
    {
     "name": "stdout",
     "output_type": "stream",
     "text": [
      "<__main__.Rocket object at 0x00000232F2F826D8>\n"
     ]
    }
   ],
   "source": [
    "print(r)"
   ]
  },
  {
   "cell_type": "markdown",
   "metadata": {},
   "source": [
    "# Q2."
   ]
  },
  {
   "cell_type": "code",
   "execution_count": 131,
   "metadata": {
    "collapsed": true
   },
   "outputs": [],
   "source": [
    "import math\n",
    "class Rocket:\n",
    "    \n",
    "    def __init__(self,x,y):\n",
    "        self.x = x\n",
    "        self.y = y\n",
    "        print(\"Initializing(rocket object's value) x = {:d} and y = {:d}\".format(self.x,self.y))\n",
    "        \n",
    "    def move_rocket(self,left,right,up,down):\n",
    "        self.left = left\n",
    "        self.right = right\n",
    "        self.up = up\n",
    "        self.down = down\n",
    "        print(\"Rocket is moved left by value {:d}\\nmoved right by value {:d}\\nmoved up by value {:d}\\nmoved down by value {:d}\".format(self.left,self.right,self.up,self.down))\n",
    "        \n",
    "    def get_distance(self):\n",
    "        Distance = math.sqrt(((self.right)-(self.left))**2+((self.down)-(self.up))**2)\n",
    "        print(\"The distance between current rocket and the rocket that is passed is {}\".format(Distance))"
   ]
  },
  {
   "cell_type": "code",
   "execution_count": 132,
   "metadata": {},
   "outputs": [
    {
     "name": "stdout",
     "output_type": "stream",
     "text": [
      "Initializing(rocket object's value) x = 0 and y = 0\n"
     ]
    }
   ],
   "source": [
    "r1 = Rocket(0,0)"
   ]
  },
  {
   "cell_type": "code",
   "execution_count": 133,
   "metadata": {},
   "outputs": [
    {
     "name": "stdout",
     "output_type": "stream",
     "text": [
      "Rocket is moved left by value 1\n",
      "moved right by value 2\n",
      "moved up by value 3\n",
      "moved down by value 4\n"
     ]
    }
   ],
   "source": [
    "r1.move_rocket(1,2,3,4)"
   ]
  },
  {
   "cell_type": "code",
   "execution_count": 134,
   "metadata": {},
   "outputs": [
    {
     "name": "stdout",
     "output_type": "stream",
     "text": [
      "Initializing(rocket object's value) x = 0 and y = 0\n"
     ]
    }
   ],
   "source": [
    "r2 = Rocket(0,0)"
   ]
  },
  {
   "cell_type": "code",
   "execution_count": 135,
   "metadata": {},
   "outputs": [
    {
     "name": "stdout",
     "output_type": "stream",
     "text": [
      "Initializing(rocket object's value) x = 0 and y = 0\n"
     ]
    }
   ],
   "source": [
    "r3 = Rocket(0,0)"
   ]
  },
  {
   "cell_type": "code",
   "execution_count": 136,
   "metadata": {},
   "outputs": [
    {
     "name": "stdout",
     "output_type": "stream",
     "text": [
      "Initializing(rocket object's value) x = 0 and y = 0\n"
     ]
    }
   ],
   "source": [
    "r4 = Rocket(0,0)"
   ]
  },
  {
   "cell_type": "code",
   "execution_count": 137,
   "metadata": {},
   "outputs": [
    {
     "name": "stdout",
     "output_type": "stream",
     "text": [
      "Rocket is moved left by value 22\n",
      "moved right by value 3\n",
      "moved up by value 77\n",
      "moved down by value 5\n"
     ]
    }
   ],
   "source": [
    "r2.move_rocket(22,3,77,5)"
   ]
  },
  {
   "cell_type": "code",
   "execution_count": 138,
   "metadata": {},
   "outputs": [
    {
     "name": "stdout",
     "output_type": "stream",
     "text": [
      "Rocket is moved left by value 3\n",
      "moved right by value 4\n",
      "moved up by value 5\n",
      "moved down by value 6\n"
     ]
    }
   ],
   "source": [
    "r3.move_rocket(3,4,5,6)"
   ]
  },
  {
   "cell_type": "code",
   "execution_count": 139,
   "metadata": {},
   "outputs": [
    {
     "name": "stdout",
     "output_type": "stream",
     "text": [
      "Rocket is moved left by value 4\n",
      "moved right by value 5\n",
      "moved up by value 6\n",
      "moved down by value 7\n"
     ]
    }
   ],
   "source": [
    "r4.move_rocket(4,5,6,7)"
   ]
  },
  {
   "cell_type": "code",
   "execution_count": 140,
   "metadata": {},
   "outputs": [
    {
     "name": "stdout",
     "output_type": "stream",
     "text": [
      "The distance between current rocket and the rocket that is passed is 1.4142135623730951\n"
     ]
    }
   ],
   "source": [
    "r3.get_distance()"
   ]
  },
  {
   "cell_type": "code",
   "execution_count": 141,
   "metadata": {},
   "outputs": [
    {
     "name": "stdout",
     "output_type": "stream",
     "text": [
      "The distance between current rocket and the rocket that is passed is 74.46475676452586\n"
     ]
    }
   ],
   "source": [
    "r2.get_distance()"
   ]
  },
  {
   "cell_type": "code",
   "execution_count": null,
   "metadata": {
    "collapsed": true
   },
   "outputs": [],
   "source": []
  },
  {
   "cell_type": "code",
   "execution_count": null,
   "metadata": {
    "collapsed": true
   },
   "outputs": [],
   "source": []
  },
  {
   "cell_type": "code",
   "execution_count": null,
   "metadata": {
    "collapsed": true
   },
   "outputs": [],
   "source": []
  },
  {
   "cell_type": "code",
   "execution_count": null,
   "metadata": {
    "collapsed": true
   },
   "outputs": [],
   "source": []
  },
  {
   "cell_type": "code",
   "execution_count": null,
   "metadata": {
    "collapsed": true
   },
   "outputs": [],
   "source": []
  },
  {
   "cell_type": "code",
   "execution_count": null,
   "metadata": {
    "collapsed": true
   },
   "outputs": [],
   "source": []
  },
  {
   "cell_type": "code",
   "execution_count": null,
   "metadata": {
    "collapsed": true
   },
   "outputs": [],
   "source": []
  },
  {
   "cell_type": "code",
   "execution_count": null,
   "metadata": {
    "collapsed": true
   },
   "outputs": [],
   "source": []
  },
  {
   "cell_type": "markdown",
   "metadata": {},
   "source": [
    "# Q3. "
   ]
  },
  {
   "cell_type": "code",
   "execution_count": 145,
   "metadata": {
    "collapsed": true
   },
   "outputs": [],
   "source": [
    "class Person:\n",
    "    def __init__(self,name,age,pob):\n",
    "        self.name = name\n",
    "        self.age = age\n",
    "        self.pob = pob\n",
    "        \n",
    "        print(\"Name: {}\\nAge: {}\\nPlace of Birth: {}\".format(self.name,self.age,self.pob))\n",
    "    \n",
    "    def introduce_yourself(self):\n",
    "        print(\"Hello, my name is {}.\".format(self.name))\n",
    "        \n",
    "    def age_person(self):\n",
    "        print(\"{}'s age is {}\".format(self.name,self.age))"
   ]
  },
  {
   "cell_type": "code",
   "execution_count": 146,
   "metadata": {},
   "outputs": [
    {
     "name": "stdout",
     "output_type": "stream",
     "text": [
      "Name: Ashish\n",
      "Age: 20\n",
      "Place of Birth: kharsia\n"
     ]
    }
   ],
   "source": [
    "p = Person('Ashish',20,'kharsia')"
   ]
  },
  {
   "cell_type": "code",
   "execution_count": 147,
   "metadata": {},
   "outputs": [
    {
     "name": "stdout",
     "output_type": "stream",
     "text": [
      "Hello, my name is Ashish.\n"
     ]
    }
   ],
   "source": [
    "p.introduce_yourself()"
   ]
  },
  {
   "cell_type": "code",
   "execution_count": 148,
   "metadata": {},
   "outputs": [
    {
     "name": "stdout",
     "output_type": "stream",
     "text": [
      "Ashish's age is 20\n"
     ]
    }
   ],
   "source": [
    "p.age_person()"
   ]
  },
  {
   "cell_type": "code",
   "execution_count": null,
   "metadata": {
    "collapsed": true
   },
   "outputs": [],
   "source": []
  },
  {
   "cell_type": "code",
   "execution_count": null,
   "metadata": {
    "collapsed": true
   },
   "outputs": [],
   "source": []
  },
  {
   "cell_type": "code",
   "execution_count": null,
   "metadata": {
    "collapsed": true
   },
   "outputs": [],
   "source": []
  },
  {
   "cell_type": "code",
   "execution_count": null,
   "metadata": {
    "collapsed": true
   },
   "outputs": [],
   "source": []
  },
  {
   "cell_type": "markdown",
   "metadata": {},
   "source": [
    "# Q4. "
   ]
  },
  {
   "cell_type": "code",
   "execution_count": 152,
   "metadata": {
    "collapsed": true
   },
   "outputs": [],
   "source": [
    "class Car:\n",
    "    def __init__(self,brand,model,year,num_doors,owner):\n",
    "        self.brand = brand\n",
    "        self. model = model\n",
    "        self.year = year\n",
    "        self.num_doors = num_doors\n",
    "        self.owner = owner\n",
    "        \n",
    "    def describe_car(self):\n",
    "        print(\"Car Brand: {}\\nModel: {}\\nYear of Manufacture: {}\\nNumber of Doors: {}\\nOwner Name: {}\".format(self.brand,self.model,self.year,self.num_doors,self.owner))\n",
    "        \n",
    "    def mileage_car(self,ma):\n",
    "        self.ma = ma\n",
    "        print(\"The mile age of the car is {} years.\".format(self.ma))"
   ]
  },
  {
   "cell_type": "code",
   "execution_count": 153,
   "metadata": {
    "collapsed": true
   },
   "outputs": [],
   "source": [
    "c = Car('Audi','C30',2003,5,'Mr. Ashish')"
   ]
  },
  {
   "cell_type": "code",
   "execution_count": 154,
   "metadata": {},
   "outputs": [
    {
     "name": "stdout",
     "output_type": "stream",
     "text": [
      "Car Brand: Audi\n",
      "Model: C30\n",
      "Year of Manufacture: 2003\n",
      "Number of Doors: 5\n",
      "Owner Name: Mr. Ashish\n"
     ]
    }
   ],
   "source": [
    "c.describe_car()"
   ]
  },
  {
   "cell_type": "code",
   "execution_count": 156,
   "metadata": {},
   "outputs": [
    {
     "name": "stdout",
     "output_type": "stream",
     "text": [
      "The mile age of the car is 40 years.\n"
     ]
    }
   ],
   "source": [
    "c.mileage_car(40)"
   ]
  },
  {
   "cell_type": "code",
   "execution_count": null,
   "metadata": {
    "collapsed": true
   },
   "outputs": [],
   "source": []
  }
 ],
 "metadata": {
  "kernelspec": {
   "display_name": "Python 3",
   "language": "python",
   "name": "python3"
  },
  "language_info": {
   "codemirror_mode": {
    "name": "ipython",
    "version": 3
   },
   "file_extension": ".py",
   "mimetype": "text/x-python",
   "name": "python",
   "nbconvert_exporter": "python",
   "pygments_lexer": "ipython3",
   "version": "3.6.3"
  }
 },
 "nbformat": 4,
 "nbformat_minor": 2
}
