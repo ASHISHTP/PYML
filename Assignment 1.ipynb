{
 "cells": [
  {
   "cell_type": "markdown",
   "metadata": {},
   "source": [
    "# SOLUTIONS"
   ]
  },
  {
   "cell_type": "markdown",
   "metadata": {},
   "source": [
    "### Q1. Even Odd using While Loop"
   ]
  },
  {
   "cell_type": "code",
   "execution_count": 1,
   "metadata": {},
   "outputs": [
    {
     "name": "stdout",
     "output_type": "stream",
     "text": [
      "Enter a number: 8\n",
      "Number is even\n",
      "Enter a number: 5\n",
      "Number is odd\n",
      "Enter a number: 0\n"
     ]
    }
   ],
   "source": [
    "n=int(input('Enter a number: '))\n",
    "while(n!=0):\n",
    "    if n%2==0:\n",
    "        print('Number is even')\n",
    "    else:\n",
    "        print('Number is odd')\n",
    "    n=int(input('Enter a number: '))\n",
    "    "
   ]
  },
  {
   "cell_type": "markdown",
   "metadata": {},
   "source": [
    "### Q2.Exceed 8 then 'you are great' using While Loop"
   ]
  },
  {
   "cell_type": "code",
   "execution_count": 3,
   "metadata": {},
   "outputs": [
    {
     "name": "stdout",
     "output_type": "stream",
     "text": [
      "Enter a number: 9\n",
      "You are Great!\n",
      "Enter a number: 7\n",
      "Enter a number: 67\n",
      "You are Great!\n",
      "Enter a number: 8\n"
     ]
    }
   ],
   "source": [
    "n=int(input('Enter a number: '))\n",
    "while(n!=8):\n",
    "    if n>8:\n",
    "        print('You are Great!')\n",
    "    n=int(input('Enter a number: '))\n",
    "    "
   ]
  },
  {
   "cell_type": "markdown",
   "metadata": {},
   "source": [
    "### Q3. Big block structure file for Name,Age and Exit"
   ]
  },
  {
   "cell_type": "code",
   "execution_count": 3,
   "metadata": {},
   "outputs": [
    {
     "name": "stdout",
     "output_type": "stream",
     "text": [
      "############\n",
      "## 1.Name ##\n",
      "## 2.Age  ##\n",
      "## 3.Exit ##\n",
      "############\n",
      "What is your option: 1\n",
      "Enter your name: Ashish\n",
      "Hello Ashish\n",
      "\n",
      "############\n",
      "## 1.Name ##\n",
      "## 2.Age  ##\n",
      "## 3.Exit ##\n",
      "############\n",
      "What is your option: 2\n",
      "Enter your age: 21\n",
      "Your age is  21\n",
      "\n",
      "############\n",
      "## 1.Name ##\n",
      "## 2.Age  ##\n",
      "## 3.Exit ##\n",
      "############\n",
      "What is your option: 3\n"
     ]
    }
   ],
   "source": [
    "print('############')\n",
    "print('## 1.Name ##')\n",
    "print('## 2.Age  ##')\n",
    "print('## 3.Exit ##')\n",
    "print('############')\n",
    "n=int(input('What is your option: '))\n",
    "\n",
    "while(n!=3):\n",
    "    if n==1:\n",
    "        x=input('Enter your name: ')\n",
    "        print('Hello ' + x)\n",
    "    else:\n",
    "        x=int(input('Enter your age: '))\n",
    "        print('Your age is ',x)\n",
    "        \n",
    "    print('')    \n",
    "    print('############')\n",
    "    print('## 1.Name ##')\n",
    "    print('## 2.Age  ##')\n",
    "    print('## 3.Exit ##')\n",
    "    print('############')\n",
    "    n=int(input('What is your option: '))\n"
   ]
  },
  {
   "cell_type": "markdown",
   "metadata": {},
   "source": [
    "### Q4. Summation of the series 1^2 + 2^2 +3^2 + ... +n^2"
   ]
  },
  {
   "cell_type": "code",
   "execution_count": 1,
   "metadata": {},
   "outputs": [
    {
     "name": "stdout",
     "output_type": "stream",
     "text": [
      "Summation of series 1^2 + 2^2 + 3^2 +...+ n^2\n",
      "Enter the value of n: 3\n",
      "So the summation of the series is  14\n"
     ]
    }
   ],
   "source": [
    "print('Summation of series 1^2 + 2^2 + 3^2 +...+ n^2')\n",
    "n=int(input('Enter the value of n: '))\n",
    "s=0\n",
    "for i in range(1,n+1,1):\n",
    "    s=s+i**2\n",
    "print('So the summation of the series is ',s)"
   ]
  },
  {
   "cell_type": "markdown",
   "metadata": {},
   "source": [
    "### Q5. Summation of the series (1^2) + (1^2+2^2) + (1^2+2^2+3^2) +..."
   ]
  },
  {
   "cell_type": "code",
   "execution_count": 1,
   "metadata": {},
   "outputs": [
    {
     "name": "stdout",
     "output_type": "stream",
     "text": [
      "Summation of the series (1^2) + (1^2+2^2) + (1^2+2^2+3^2) +...+ ((1^2+2^2+...+n^2))\n",
      "Enter the value of n: 3\n",
      "So the summation of the series is  20\n"
     ]
    }
   ],
   "source": [
    "print('Summation of the series (1^2) + (1^2+2^2) + (1^2+2^2+3^2) +...+ ((1^2+2^2+...+n^2))')\n",
    "n=int(input('Enter the value of n: '))\n",
    "t=0\n",
    "for i in range(1,n+1,1):\n",
    "    s=0\n",
    "    for j in range(1,i+1,1):\n",
    "        s=s+j**2\n",
    "    t=t+s\n",
    "print('So the summation of the series is ',t)"
   ]
  },
  {
   "cell_type": "markdown",
   "metadata": {
    "collapsed": true
   },
   "source": [
    "### Q6. For Loop to print nth Fibonacci value"
   ]
  },
  {
   "cell_type": "code",
   "execution_count": 3,
   "metadata": {},
   "outputs": [
    {
     "name": "stdout",
     "output_type": "stream",
     "text": [
      "What is the range of Fibonacci series : 3\n",
      "So the  3 th value of the Fibonacci series is  1\n"
     ]
    }
   ],
   "source": [
    "previous=0\n",
    "current=1\n",
    "n=int(input('What is the range of Fibonacci series : '))\n",
    "\n",
    "if n==1:\n",
    "    print('So the ',n,'st value of the Fibonacci series is 0')\n",
    "elif n==2:\n",
    "    print('So the ',n,'nd value of the Fibonacci series is 1')\n",
    "else:\n",
    "    for i in range(0,n-2,1):\n",
    "        Next=previous+current\n",
    "        previous=current\n",
    "        current=Next\n",
    "    print('So the ',n,'th value of the Fibonacci series is ',Next)"
   ]
  },
  {
   "cell_type": "markdown",
   "metadata": {
    "collapsed": true
   },
   "source": [
    "### Q7. To complete Question6 but by using only Two variables"
   ]
  },
  {
   "cell_type": "code",
   "execution_count": 1,
   "metadata": {},
   "outputs": [
    {
     "name": "stdout",
     "output_type": "stream",
     "text": [
      "What is the range of Fibonacci series : 5\n",
      "So the  5 th value of the Fibonacci series is  3\n"
     ]
    }
   ],
   "source": [
    "previous=0\n",
    "current=1\n",
    "n=int(input('What is the range of Fibonacci series : '))\n",
    "\n",
    "if n==1:\n",
    "    print('So the ',n,'st value of the Fibonacci series is 0')\n",
    "elif n==2:\n",
    "    print('So the ',n,'nd value of the Fibonacci series is 1')\n",
    "else:\n",
    "    for i in range(0,n-2,1):\n",
    "        current=previous + current\n",
    "        previous=current-previous\n",
    "    print('So the ',n,'th value of the Fibonacci series is ',current)"
   ]
  },
  {
   "cell_type": "markdown",
   "metadata": {},
   "source": [
    "### Q8. To print nth summation value of the Fibonacci Series (0^2) + (0^2+1^2) + (0^2+1^2+1^2) + (0^2+1^2+1^2+2^2) +...."
   ]
  },
  {
   "cell_type": "code",
   "execution_count": 15,
   "metadata": {},
   "outputs": [
    {
     "name": "stdout",
     "output_type": "stream",
     "text": [
      "To print nth summation value of the Fibonacci Series (0^2) + (0^2+1^2) + (0^2+1^2+1^2) + (0^2+1^2+1^2+2^2) +....\n",
      "What is the range of Fibonacci series : 4\n",
      "So the  4 th summation value of the Fibonacci series is : 6\n"
     ]
    }
   ],
   "source": [
    "print('To print nth summation value of the Fibonacci Series (0^2) + (0^2+1^2) + (0^2+1^2+1^2) + (0^2+1^2+1^2+2^2) +....')\n",
    "previous=0\n",
    "current=1\n",
    "s=(0**2)+(1**2)\n",
    "n=int(input('What is the range of Fibonacci series : '))\n",
    "\n",
    "if n==1:\n",
    "    print('So the ',n,'st summttion value of the Fibonacci series is 0')\n",
    "elif n==2:\n",
    "    print('So the ',n,'nd summation value of the Fibonacci series is 1')\n",
    "else:\n",
    "    for i in range(0,n-2,1):\n",
    "        Next=previous+current\n",
    "        previous=current\n",
    "        current=Next\n",
    "        s=s+(Next**2)\n",
    "    print('So the ',n,'th summation value of the Fibonacci series is :',s)"
   ]
  },
  {
   "cell_type": "code",
   "execution_count": null,
   "metadata": {
    "collapsed": true
   },
   "outputs": [],
   "source": []
  },
  {
   "cell_type": "code",
   "execution_count": null,
   "metadata": {
    "collapsed": true
   },
   "outputs": [],
   "source": []
  },
  {
   "cell_type": "code",
   "execution_count": null,
   "metadata": {
    "collapsed": true
   },
   "outputs": [],
   "source": []
  }
 ],
 "metadata": {
  "kernelspec": {
   "display_name": "Python 3",
   "language": "python",
   "name": "python3"
  },
  "language_info": {
   "codemirror_mode": {
    "name": "ipython",
    "version": 3
   },
   "file_extension": ".py",
   "mimetype": "text/x-python",
   "name": "python",
   "nbconvert_exporter": "python",
   "pygments_lexer": "ipython3",
   "version": "3.6.3"
  }
 },
 "nbformat": 4,
 "nbformat_minor": 2
}
