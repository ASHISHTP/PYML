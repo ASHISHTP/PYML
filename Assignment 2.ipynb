{
 "cells": [
  {
   "cell_type": "markdown",
   "metadata": {},
   "source": [
    "# SOLUTIONS"
   ]
  },
  {
   "cell_type": "markdown",
   "metadata": {},
   "source": [
    "### Q1. Sum of all items in a list(of integers)"
   ]
  },
  {
   "cell_type": "code",
   "execution_count": 1,
   "metadata": {},
   "outputs": [
    {
     "name": "stdout",
     "output_type": "stream",
     "text": [
      "Sum of all items in the list is 45\n"
     ]
    }
   ],
   "source": [
    "s=0\n",
    "for i in [1,2,3,4,5,6,7,8,9]:\n",
    "    s=s+i\n",
    "print('Sum of all items in the list is',s)"
   ]
  },
  {
   "cell_type": "markdown",
   "metadata": {},
   "source": [
    "### Q2. Get the largest no from the list(of integers)"
   ]
  },
  {
   "cell_type": "code",
   "execution_count": 7,
   "metadata": {},
   "outputs": [
    {
     "name": "stdout",
     "output_type": "stream",
     "text": [
      "Largest number from the list a is 665\n"
     ]
    }
   ],
   "source": [
    "a=[1,2,3,4,54,665,7,8,9]\n",
    "print('Largest number from the list a is',max(a))"
   ]
  },
  {
   "cell_type": "markdown",
   "metadata": {},
   "source": [
    "### Q3. Sorting the second values of tuples from list of tuples"
   ]
  },
  {
   "cell_type": "code",
   "execution_count": 33,
   "metadata": {},
   "outputs": [
    {
     "name": "stdout",
     "output_type": "stream",
     "text": [
      "[(2, 1), (1, 2), (2, 3), (4, 4), (2, 5)]\n"
     ]
    }
   ],
   "source": [
    "l1 = [(2,5),(1,2),(4,4),(2,3),(2,1)]\n",
    "\n",
    "l2=len(l1)\n",
    "for i in range (0,l2-1,1):\n",
    "    for j in range(i+1,l2,1):\n",
    "        if(l1[i][1]>l1[j][1]):\n",
    "            temp=l1[i]\n",
    "            l1[i]=l1[j]\n",
    "            l1[j]=temp\n",
    "print(l1)"
   ]
  },
  {
   "cell_type": "markdown",
   "metadata": {},
   "source": [
    "### Q4. Two list and return True if they have atleast one common value. "
   ]
  },
  {
   "cell_type": "code",
   "execution_count": 10,
   "metadata": {},
   "outputs": [
    {
     "name": "stdout",
     "output_type": "stream",
     "text": [
      "True\n"
     ]
    }
   ],
   "source": [
    "a = [1,2,3,4,5,6,7]\n",
    "b = [3,4,5,6,7,8,9]\n",
    "\n",
    "if (set(a) & set(b))!=None:\n",
    "    print(True)\n",
    "else:\n",
    "    print(False)\n"
   ]
  },
  {
   "cell_type": "markdown",
   "metadata": {},
   "source": [
    "### Q5.To convert list of characters into a string:"
   ]
  },
  {
   "cell_type": "code",
   "execution_count": 11,
   "metadata": {},
   "outputs": [
    {
     "name": "stdout",
     "output_type": "stream",
     "text": [
      "ashish"
     ]
    }
   ],
   "source": [
    "a=['a','s','h','i','s','h']\n",
    "for i in a:\n",
    "    print(i,end=\"\")"
   ]
  },
  {
   "cell_type": "code",
   "execution_count": 34,
   "metadata": {},
   "outputs": [
    {
     "name": "stdout",
     "output_type": "stream",
     "text": [
      "abcd\n"
     ]
    }
   ],
   "source": [
    "l1 = ['a','b','c','d']\n",
    "#length=len(l1)\n",
    "#l1.reverse()\n",
    "str=''\n",
    "for i in l1:\n",
    "    str = str+i\n",
    "print(str)"
   ]
  },
  {
   "cell_type": "code",
   "execution_count": null,
   "metadata": {
    "collapsed": true
   },
   "outputs": [],
   "source": [
    "l1 = ['a','b','c','d']\n",
    "length=len(l1)\n",
    "str=''\n",
    "for i in range()\n",
    "    str = str+i\n",
    "print(str)"
   ]
  },
  {
   "cell_type": "markdown",
   "metadata": {},
   "source": [
    "### Q6. Using a dictionary,compute the number of times each word occurs"
   ]
  },
  {
   "cell_type": "code",
   "execution_count": 37,
   "metadata": {},
   "outputs": [
    {
     "name": "stdout",
     "output_type": "stream",
     "text": [
      "{'dog': 5, 'pencil': 2, 'fence': 1, 'apple': 1, 'pear': 3}\n"
     ]
    }
   ],
   "source": [
    "a = ['dog','pencil','fence','dog','apple','dog','dog','dog','pear','pencil','pear','pear']\n",
    "b = {}\n",
    "for i in a:\n",
    "    if i in b:\n",
    "        b[i]=b[i]+1\n",
    "    else:\n",
    "        b[i]=1\n",
    "print(b)"
   ]
  },
  {
   "cell_type": "code",
   "execution_count": 26,
   "metadata": {},
   "outputs": [
    {
     "name": "stdout",
     "output_type": "stream",
     "text": [
      "{'dog': 5, 'pencil': 2, 'fence': 1, 'apple': 1, 'pear': 3}\n"
     ]
    }
   ],
   "source": [
    "a = ['dog','pencil','fence','dog','apple','dog','dog','dog','pear','pencil','pear','pear']\n",
    "b = {x:a.count(x) for x in a}\n",
    "print(b)"
   ]
  },
  {
   "cell_type": "markdown",
   "metadata": {},
   "source": [
    "### Q7. Program to check whether an element exists within a tuple"
   ]
  },
  {
   "cell_type": "code",
   "execution_count": 44,
   "metadata": {},
   "outputs": [
    {
     "name": "stdout",
     "output_type": "stream",
     "text": [
      "Enter element want to serch:apple\n",
      "Element present at index: 1\n"
     ]
    }
   ],
   "source": [
    "a = ('dog','apple','pencil','fence','pear')\n",
    "serch=input('Enter element want to serch:')\n",
    "length=len(a)\n",
    "for i in range(0,length,1):\n",
    "    if serch==a[i]:\n",
    "        print('Element present at index:',i)"
   ]
  },
  {
   "cell_type": "markdown",
   "metadata": {},
   "source": [
    "### Q8. Numbers and there squares using dictionary"
   ]
  },
  {
   "cell_type": "code",
   "execution_count": 15,
   "metadata": {},
   "outputs": [
    {
     "name": "stdout",
     "output_type": "stream",
     "text": [
      "Enter the value of n: 5\n",
      "{1: 1, 2: 4, 3: 9, 4: 16, 5: 25}\n"
     ]
    }
   ],
   "source": [
    "n=int(input('Enter the value of n: '))\n",
    "s={}\n",
    "for i in range(1,n+1,1):\n",
    "    s[i]=i*i\n",
    "print(s)"
   ]
  },
  {
   "cell_type": "markdown",
   "metadata": {},
   "source": [
    "### Q9. Adding the values of two dictionaries if there keys are same"
   ]
  },
  {
   "cell_type": "code",
   "execution_count": 48,
   "metadata": {},
   "outputs": [
    {
     "name": "stdout",
     "output_type": "stream",
     "text": [
      "{'a': 400, 'b': 400, 'c': 300, 'd': 400}\n"
     ]
    }
   ],
   "source": [
    "d1 = {'a':100,'b':200,'c':300}\n",
    "d2 = {'a':300,'b':200,'d':400}\n",
    "d3={}\n",
    "for i in d1:\n",
    "    if i in d2:\n",
    "        d3[i]=d1[i]+d2[i]\n",
    "    else:\n",
    "        d3[i]=d1[i]\n",
    "for i in d2:\n",
    "    if i not in d1:\n",
    "        d3[i]=d2[i]\n",
    "\n",
    "print(d3)"
   ]
  },
  {
   "cell_type": "code",
   "execution_count": 17,
   "metadata": {},
   "outputs": [
    {
     "data": {
      "text/plain": [
       "3"
      ]
     },
     "execution_count": 17,
     "metadata": {},
     "output_type": "execute_result"
    }
   ],
   "source": [
    "len(d1)"
   ]
  },
  {
   "cell_type": "code",
   "execution_count": null,
   "metadata": {
    "collapsed": true
   },
   "outputs": [],
   "source": []
  }
 ],
 "metadata": {
  "kernelspec": {
   "display_name": "Python 3",
   "language": "python",
   "name": "python3"
  },
  "language_info": {
   "codemirror_mode": {
    "name": "ipython",
    "version": 3
   },
   "file_extension": ".py",
   "mimetype": "text/x-python",
   "name": "python",
   "nbconvert_exporter": "python",
   "pygments_lexer": "ipython3",
   "version": "3.6.3"
  }
 },
 "nbformat": 4,
 "nbformat_minor": 2
}
