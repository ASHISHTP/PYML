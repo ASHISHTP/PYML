{
 "cells": [
  {
   "cell_type": "markdown",
   "metadata": {},
   "source": [
    "# Missing Data"
   ]
  },
  {
   "cell_type": "code",
   "execution_count": 1,
   "metadata": {},
   "outputs": [],
   "source": [
    "import pandas as pd"
   ]
  },
  {
   "cell_type": "code",
   "execution_count": 3,
   "metadata": {
    "collapsed": true
   },
   "outputs": [],
   "source": [
    "import numpy as np"
   ]
  },
  {
   "cell_type": "code",
   "execution_count": 5,
   "metadata": {},
   "outputs": [],
   "source": [
    "df = pd.DataFrame(np.random.randn(5,3), index=['a','c','e','f','h'], columns=['one','two','three'])"
   ]
  },
  {
   "cell_type": "code",
   "execution_count": 6,
   "metadata": {
    "collapsed": true
   },
   "outputs": [],
   "source": [
    "df = df.reindex(['a','b','c','d','e','f','g','h'])"
   ]
  },
  {
   "cell_type": "code",
   "execution_count": 7,
   "metadata": {},
   "outputs": [
    {
     "name": "stdout",
     "output_type": "stream",
     "text": [
      "        one       two     three\n",
      "a  0.901869 -0.965619 -1.263266\n",
      "b       NaN       NaN       NaN\n",
      "c  0.769553  0.814341 -0.965251\n",
      "d       NaN       NaN       NaN\n",
      "e -1.533865  0.293921  0.986333\n",
      "f -0.826819 -0.307268 -0.343363\n",
      "g       NaN       NaN       NaN\n",
      "h  0.176971  0.820976 -0.202921\n"
     ]
    }
   ],
   "source": [
    "print(df)"
   ]
  },
  {
   "cell_type": "code",
   "execution_count": 8,
   "metadata": {},
   "outputs": [
    {
     "name": "stdout",
     "output_type": "stream",
     "text": [
      "     one    two  three\n",
      "a  False  False  False\n",
      "b   True   True   True\n",
      "c  False  False  False\n",
      "d   True   True   True\n",
      "e  False  False  False\n",
      "f  False  False  False\n",
      "g   True   True   True\n",
      "h  False  False  False\n"
     ]
    }
   ],
   "source": [
    "#-------------------------Check for Missing Values---------------------\n",
    "print(df.isnull())"
   ]
  },
  {
   "cell_type": "code",
   "execution_count": 10,
   "metadata": {},
   "outputs": [
    {
     "name": "stdout",
     "output_type": "stream",
     "text": [
      "a    False\n",
      "b     True\n",
      "c    False\n",
      "d     True\n",
      "e    False\n",
      "f    False\n",
      "g     True\n",
      "h    False\n",
      "Name: one, dtype: bool\n"
     ]
    }
   ],
   "source": [
    "print(df['one'].isnull())"
   ]
  },
  {
   "cell_type": "code",
   "execution_count": 11,
   "metadata": {},
   "outputs": [
    {
     "name": "stdout",
     "output_type": "stream",
     "text": [
      "a     True\n",
      "b    False\n",
      "c     True\n",
      "d    False\n",
      "e     True\n",
      "f     True\n",
      "g    False\n",
      "h     True\n",
      "Name: one, dtype: bool\n"
     ]
    }
   ],
   "source": [
    "print(df['one'].notnull())"
   ]
  },
  {
   "cell_type": "code",
   "execution_count": 12,
   "metadata": {},
   "outputs": [
    {
     "name": "stdout",
     "output_type": "stream",
     "text": [
      "one      True\n",
      "two      True\n",
      "three    True\n",
      "Name: b, dtype: bool\n"
     ]
    }
   ],
   "source": [
    "print(df.loc['b'].isnull())"
   ]
  },
  {
   "cell_type": "code",
   "execution_count": 13,
   "metadata": {},
   "outputs": [
    {
     "name": "stdout",
     "output_type": "stream",
     "text": [
      "-0.5122909583281514\n"
     ]
    }
   ],
   "source": [
    "#-----------------------Calculations with Missing Data-----------------------\n",
    "#-----------------When summing data, NAN will be treated as Zero---------------------\n",
    "\n",
    "print(df['one'].sum())"
   ]
  },
  {
   "cell_type": "code",
   "execution_count": 14,
   "metadata": {},
   "outputs": [
    {
     "name": "stdout",
     "output_type": "stream",
     "text": [
      "   one  two\n",
      "0  NaN  NaN\n",
      "1  NaN  NaN\n",
      "2  NaN  NaN\n",
      "3  NaN  NaN\n",
      "4  NaN  NaN\n",
      "5  NaN  NaN\n"
     ]
    }
   ],
   "source": [
    "#--------------------If the data are all NAN, then the result will be NAN---------------------\n",
    "df_NAN = pd.DataFrame(index=[0,1,2,3,4,5],columns=['one','two'])\n",
    "print(df_NAN)"
   ]
  },
  {
   "cell_type": "code",
   "execution_count": 15,
   "metadata": {},
   "outputs": [
    {
     "name": "stdout",
     "output_type": "stream",
     "text": [
      "nan\n"
     ]
    }
   ],
   "source": [
    "print(df_NAN['one'].sum())"
   ]
  },
  {
   "cell_type": "code",
   "execution_count": 16,
   "metadata": {},
   "outputs": [
    {
     "name": "stdout",
     "output_type": "stream",
     "text": [
      "NAN replaced with 0:\n",
      "        one       two     three\n",
      "a  0.901869 -0.965619 -1.263266\n",
      "b  0.000000  0.000000  0.000000\n",
      "c  0.769553  0.814341 -0.965251\n",
      "d  0.000000  0.000000  0.000000\n",
      "e -1.533865  0.293921  0.986333\n",
      "f -0.826819 -0.307268 -0.343363\n",
      "g  0.000000  0.000000  0.000000\n",
      "h  0.176971  0.820976 -0.202921\n"
     ]
    }
   ],
   "source": [
    "#----------------Replace NAN with a scalar value---------------\n",
    "print('NAN replaced with 0:')\n",
    "print(df.fillna(0))"
   ]
  },
  {
   "cell_type": "code",
   "execution_count": 17,
   "metadata": {},
   "outputs": [
    {
     "name": "stdout",
     "output_type": "stream",
     "text": [
      "one      0.0\n",
      "two      0.0\n",
      "three    0.0\n",
      "Name: b, dtype: float64\n"
     ]
    }
   ],
   "source": [
    "print(df.loc['b'].fillna(0))"
   ]
  },
  {
   "cell_type": "code",
   "execution_count": 18,
   "metadata": {},
   "outputs": [
    {
     "name": "stdout",
     "output_type": "stream",
     "text": [
      "        one       two     three\n",
      "a  0.901869 -0.965619 -1.263266\n",
      "b       NaN       NaN       NaN\n",
      "c  0.769553  0.814341 -0.965251\n",
      "d       NaN       NaN       NaN\n",
      "e -1.533865  0.293921  0.986333\n",
      "f -0.826819 -0.307268 -0.343363\n",
      "g       NaN       NaN       NaN\n",
      "h  0.176971  0.820976 -0.202921\n"
     ]
    }
   ],
   "source": [
    "#--------------Fill NA Forward and Backward------------------\n",
    "print(df)"
   ]
  },
  {
   "cell_type": "code",
   "execution_count": 19,
   "metadata": {},
   "outputs": [
    {
     "name": "stdout",
     "output_type": "stream",
     "text": [
      "        one       two     three\n",
      "a  0.901869 -0.965619 -1.263266\n",
      "b  0.901869 -0.965619 -1.263266\n",
      "c  0.769553  0.814341 -0.965251\n",
      "d  0.769553  0.814341 -0.965251\n",
      "e -1.533865  0.293921  0.986333\n",
      "f -0.826819 -0.307268 -0.343363\n",
      "g -0.826819 -0.307268 -0.343363\n",
      "h  0.176971  0.820976 -0.202921\n"
     ]
    }
   ],
   "source": [
    "print(df.fillna(method='pad'))"
   ]
  },
  {
   "cell_type": "code",
   "execution_count": 20,
   "metadata": {},
   "outputs": [
    {
     "name": "stdout",
     "output_type": "stream",
     "text": [
      "        one       two     three\n",
      "a  0.901869 -0.965619 -1.263266\n",
      "b  0.769553  0.814341 -0.965251\n",
      "c  0.769553  0.814341 -0.965251\n",
      "d -1.533865  0.293921  0.986333\n",
      "e -1.533865  0.293921  0.986333\n",
      "f -0.826819 -0.307268 -0.343363\n",
      "g  0.176971  0.820976 -0.202921\n",
      "h  0.176971  0.820976 -0.202921\n"
     ]
    }
   ],
   "source": [
    "print(df.fillna(method='backfill'))"
   ]
  },
  {
   "cell_type": "code",
   "execution_count": 21,
   "metadata": {},
   "outputs": [
    {
     "name": "stdout",
     "output_type": "stream",
     "text": [
      "        one       two     three\n",
      "a  0.901869 -0.965619 -1.263266\n",
      "c  0.769553  0.814341 -0.965251\n",
      "e -1.533865  0.293921  0.986333\n",
      "f -0.826819 -0.307268 -0.343363\n",
      "h  0.176971  0.820976 -0.202921\n"
     ]
    }
   ],
   "source": [
    "#----------Drop Missing Values------------\n",
    "\n",
    "print(df.dropna())"
   ]
  },
  {
   "cell_type": "code",
   "execution_count": 22,
   "metadata": {},
   "outputs": [
    {
     "name": "stdout",
     "output_type": "stream",
     "text": [
      "        one       two     three\n",
      "a  0.901869 -0.965619 -1.263266\n",
      "c  0.769553  0.814341 -0.965251\n",
      "e -1.533865  0.293921  0.986333\n",
      "f -0.826819 -0.307268 -0.343363\n",
      "h  0.176971  0.820976 -0.202921\n"
     ]
    }
   ],
   "source": [
    "# Drop all Rows with NAN\n",
    "print(df.dropna(axis=0))"
   ]
  },
  {
   "cell_type": "code",
   "execution_count": 23,
   "metadata": {},
   "outputs": [
    {
     "name": "stdout",
     "output_type": "stream",
     "text": [
      "Empty DataFrame\n",
      "Columns: []\n",
      "Index: [a, b, c, d, e, f, g, h]\n"
     ]
    }
   ],
   "source": [
    "#Drop all column with NAN\n",
    "print(df.dropna(axis=1))"
   ]
  },
  {
   "cell_type": "code",
   "execution_count": 24,
   "metadata": {},
   "outputs": [
    {
     "name": "stdout",
     "output_type": "stream",
     "text": [
      "    one   two\n",
      "0    10  2000\n",
      "1    20     0\n",
      "2    30    30\n",
      "3    40    40\n",
      "4    50    50\n",
      "5  1000    60\n"
     ]
    }
   ],
   "source": [
    "#-------------------REplace Missing (or) Generic Values----------------------\n",
    "df = pd.DataFrame({'one':[10,20,30,40,50,1000],'two':[2000,0,30,40,50,60]})\n",
    "print(df)"
   ]
  },
  {
   "cell_type": "code",
   "execution_count": 25,
   "metadata": {},
   "outputs": [
    {
     "name": "stdout",
     "output_type": "stream",
     "text": [
      "   one  two\n",
      "0   10   20\n",
      "1   20    0\n",
      "2   30   30\n",
      "3   40   40\n",
      "4   50   50\n",
      "5   10   60\n"
     ]
    }
   ],
   "source": [
    "print(df.replace({1000:10,2000:20}))"
   ]
  },
  {
   "cell_type": "markdown",
   "metadata": {},
   "source": [
    "### Series Operation"
   ]
  },
  {
   "cell_type": "code",
   "execution_count": 28,
   "metadata": {},
   "outputs": [
    {
     "name": "stdout",
     "output_type": "stream",
     "text": [
      "0    0.687129\n",
      "1   -0.346635\n",
      "2   -2.087632\n",
      "3    0.428180\n",
      "4   -0.724876\n",
      "5    0.075988\n",
      "6    0.477909\n",
      "7   -0.286843\n",
      "8    1.063124\n",
      "9    0.702187\n",
      "dtype: float64\n"
     ]
    }
   ],
   "source": [
    "# Create a Series with Random numbers\n",
    "\n",
    "s = pd.Series(np.random.randn(10))\n",
    "print(s)"
   ]
  },
  {
   "cell_type": "code",
   "execution_count": 29,
   "metadata": {},
   "outputs": [
    {
     "name": "stdout",
     "output_type": "stream",
     "text": [
      "The axes are:\n",
      "[RangeIndex(start=0, stop=10, step=1)]\n"
     ]
    }
   ],
   "source": [
    "print('The axes are:')\n",
    "print(s.axes)"
   ]
  },
  {
   "cell_type": "code",
   "execution_count": 30,
   "metadata": {},
   "outputs": [
    {
     "name": "stdout",
     "output_type": "stream",
     "text": [
      "11   -1.266935\n",
      "12    0.328243\n",
      "13    0.531938\n",
      "14   -0.885459\n",
      "dtype: float64\n"
     ]
    }
   ],
   "source": [
    "s2 = pd.Series(np.random.randn(4),index=[11,12,13,14])\n",
    "print(s2)"
   ]
  },
  {
   "cell_type": "code",
   "execution_count": 31,
   "metadata": {},
   "outputs": [
    {
     "name": "stdout",
     "output_type": "stream",
     "text": [
      "The axes are:\n",
      "[Int64Index([11, 12, 13, 14], dtype='int64')]\n"
     ]
    }
   ],
   "source": [
    "print('The axes are:')\n",
    "print(s2.axes)"
   ]
  },
  {
   "cell_type": "code",
   "execution_count": 32,
   "metadata": {},
   "outputs": [
    {
     "name": "stdout",
     "output_type": "stream",
     "text": [
      "Series([], dtype: float64)\n"
     ]
    }
   ],
   "source": [
    "se = pd.Series()\n",
    "print(se)"
   ]
  },
  {
   "cell_type": "code",
   "execution_count": 33,
   "metadata": {},
   "outputs": [
    {
     "name": "stdout",
     "output_type": "stream",
     "text": [
      "Is the object empty?\n",
      "True\n"
     ]
    }
   ],
   "source": [
    "print('Is the object empty?')\n",
    "print(se.empty)"
   ]
  },
  {
   "cell_type": "code",
   "execution_count": 34,
   "metadata": {},
   "outputs": [
    {
     "name": "stdout",
     "output_type": "stream",
     "text": [
      "Is the object empty?\n",
      "False\n"
     ]
    }
   ],
   "source": [
    "print('Is the object empty?')\n",
    "print(s.empty)"
   ]
  },
  {
   "cell_type": "code",
   "execution_count": 35,
   "metadata": {},
   "outputs": [
    {
     "name": "stdout",
     "output_type": "stream",
     "text": [
      "The dimensions of the object:\n",
      "1\n"
     ]
    }
   ],
   "source": [
    "print('The dimensions of the object:')\n",
    "print(s.ndim)"
   ]
  },
  {
   "cell_type": "code",
   "execution_count": 36,
   "metadata": {},
   "outputs": [
    {
     "name": "stdout",
     "output_type": "stream",
     "text": [
      "THe size of the object:\n",
      "10\n"
     ]
    }
   ],
   "source": [
    "print('THe size of the object:')\n",
    "print(s.size)"
   ]
  },
  {
   "cell_type": "code",
   "execution_count": 37,
   "metadata": {},
   "outputs": [
    {
     "name": "stdout",
     "output_type": "stream",
     "text": [
      "The actual data series is:\n",
      "[ 0.68712904 -0.34663512 -2.08763168  0.42818024 -0.7248757   0.07598803\n",
      "  0.47790854 -0.28684329  1.06312353  0.70218734]\n"
     ]
    }
   ],
   "source": [
    "print('The actual data series is:')\n",
    "print(s.values)"
   ]
  },
  {
   "cell_type": "code",
   "execution_count": 38,
   "metadata": {},
   "outputs": [
    {
     "name": "stdout",
     "output_type": "stream",
     "text": [
      "The first two elements of the data series:\n",
      "0    0.687129\n",
      "1   -0.346635\n",
      "dtype: float64\n"
     ]
    }
   ],
   "source": [
    "print('The first two elements of the data series:')\n",
    "print(s.head(2))"
   ]
  },
  {
   "cell_type": "code",
   "execution_count": 39,
   "metadata": {},
   "outputs": [
    {
     "name": "stdout",
     "output_type": "stream",
     "text": [
      "The last two elements of the data series:\n",
      "8    1.063124\n",
      "9    0.702187\n",
      "dtype: float64\n"
     ]
    }
   ],
   "source": [
    "print('The last two elements of the data series:')\n",
    "print(s.tail(2))"
   ]
  },
  {
   "cell_type": "code",
   "execution_count": 40,
   "metadata": {
    "collapsed": true
   },
   "outputs": [],
   "source": [
    "# Create a Dictionary of Series\n",
    "d = {'Name':pd.Series(['Pranay','Swapnil','Ayush','Viraj','Bhusan','Ashwin','Vishal']),'Age':pd.Series([25,26,25,23,30,29,23]),'Rating':pd.Series([4.23,3.24,3.98,2.56,3.20,4.6,3.8])}"
   ]
  },
  {
   "cell_type": "code",
   "execution_count": 41,
   "metadata": {},
   "outputs": [
    {
     "name": "stdout",
     "output_type": "stream",
     "text": [
      "Our DataFrame is:\n",
      "      Name  Age  Rating\n",
      "0   Pranay   25    4.23\n",
      "1  Swapnil   26    3.24\n",
      "2    Ayush   25    3.98\n",
      "3    Viraj   23    2.56\n",
      "4   Bhusan   30    3.20\n",
      "5   Ashwin   29    4.60\n",
      "6   Vishal   23    3.80\n"
     ]
    }
   ],
   "source": [
    "# Create a DataFrame\n",
    "s = pd.DataFrame(d,columns=['Name','Age','Rating'])\n",
    "print('Our DataFrame is:')\n",
    "print(s)"
   ]
  },
  {
   "cell_type": "code",
   "execution_count": 42,
   "metadata": {},
   "outputs": [
    {
     "name": "stdout",
     "output_type": "stream",
     "text": [
      "The tranpose of the DataFrame is:\n",
      "             0        1      2      3       4       5       6\n",
      "Name    Pranay  Swapnil  Ayush  Viraj  Bhusan  Ashwin  Vishal\n",
      "Age         25       26     25     23      30      29      23\n",
      "Rating    4.23     3.24   3.98   2.56     3.2     4.6     3.8\n"
     ]
    }
   ],
   "source": [
    "print('The tranpose of the DataFrame is:')\n",
    "print(s.T)"
   ]
  },
  {
   "cell_type": "code",
   "execution_count": 43,
   "metadata": {},
   "outputs": [
    {
     "name": "stdout",
     "output_type": "stream",
     "text": [
      "Row axis labels and column axis labels are:\n",
      "[RangeIndex(start=0, stop=7, step=1), Index(['Name', 'Age', 'Rating'], dtype='object')]\n"
     ]
    }
   ],
   "source": [
    "print('Row axis labels and column axis labels are:')\n",
    "print(s.axes)"
   ]
  },
  {
   "cell_type": "code",
   "execution_count": 44,
   "metadata": {},
   "outputs": [
    {
     "name": "stdout",
     "output_type": "stream",
     "text": [
      "The data type of each column are:\n",
      "Name       object\n",
      "Age         int64\n",
      "Rating    float64\n",
      "dtype: object\n"
     ]
    }
   ],
   "source": [
    "print('The data type of each column are:')\n",
    "print(s.dtypes)"
   ]
  },
  {
   "cell_type": "code",
   "execution_count": 45,
   "metadata": {},
   "outputs": [
    {
     "name": "stdout",
     "output_type": "stream",
     "text": [
      "The dimension of the object is:\n",
      "2\n"
     ]
    }
   ],
   "source": [
    "print('The dimension of the object is:')\n",
    "print(s.ndim)"
   ]
  },
  {
   "cell_type": "code",
   "execution_count": 46,
   "metadata": {},
   "outputs": [
    {
     "name": "stdout",
     "output_type": "stream",
     "text": [
      "The shape of the object is:\n",
      "(7, 3)\n"
     ]
    }
   ],
   "source": [
    "print('The shape of the object is:')\n",
    "print(s.shape)"
   ]
  },
  {
   "cell_type": "code",
   "execution_count": 47,
   "metadata": {},
   "outputs": [
    {
     "name": "stdout",
     "output_type": "stream",
     "text": [
      "The total no of element in object is:\n",
      "21\n"
     ]
    }
   ],
   "source": [
    "print('The total no of element in object is:')\n",
    "print(s.size)"
   ]
  },
  {
   "cell_type": "code",
   "execution_count": 48,
   "metadata": {},
   "outputs": [
    {
     "name": "stdout",
     "output_type": "stream",
     "text": [
      "The actual data in our data frame is:\n",
      "[['Pranay' 25 4.23]\n",
      " ['Swapnil' 26 3.24]\n",
      " ['Ayush' 25 3.98]\n",
      " ['Viraj' 23 2.56]\n",
      " ['Bhusan' 30 3.2]\n",
      " ['Ashwin' 29 4.6]\n",
      " ['Vishal' 23 3.8]]\n"
     ]
    }
   ],
   "source": [
    "print('The actual data in our data frame is:')\n",
    "print(s.values)"
   ]
  },
  {
   "cell_type": "code",
   "execution_count": 49,
   "metadata": {},
   "outputs": [
    {
     "name": "stdout",
     "output_type": "stream",
     "text": [
      "The first two row of the data frame is:\n",
      "      Name  Age  Rating\n",
      "0   Pranay   25    4.23\n",
      "1  Swapnil   26    3.24\n"
     ]
    }
   ],
   "source": [
    "print('The first two row of the data frame is:')\n",
    "print(s.head(2))"
   ]
  },
  {
   "cell_type": "code",
   "execution_count": 50,
   "metadata": {},
   "outputs": [
    {
     "name": "stdout",
     "output_type": "stream",
     "text": [
      "The last two rows of the data frame is:\n",
      "     Name  Age  Rating\n",
      "5  Ashwin   29     4.6\n",
      "6  Vishal   23     3.8\n"
     ]
    }
   ],
   "source": [
    "print('The last two rows of the data frame is:')\n",
    "print(s.tail(2))"
   ]
  },
  {
   "cell_type": "markdown",
   "metadata": {},
   "source": [
    "## Panel"
   ]
  },
  {
   "cell_type": "code",
   "execution_count": 51,
   "metadata": {
    "collapsed": true
   },
   "outputs": [],
   "source": [
    "import pandas as pd\n",
    "import numpy as np"
   ]
  },
  {
   "cell_type": "code",
   "execution_count": 52,
   "metadata": {},
   "outputs": [
    {
     "name": "stdout",
     "output_type": "stream",
     "text": [
      "<class 'pandas.core.panel.Panel'>\n",
      "Dimensions: 0 (items) x 0 (major_axis) x 0 (minor_axis)\n",
      "Items axis: None\n",
      "Major_axis axis: None\n",
      "Minor_axis axis: None\n"
     ]
    }
   ],
   "source": [
    "#--------------------Create an Empty Panel----------------------\n",
    "p = pd.Panel()\n",
    "print(p)"
   ]
  },
  {
   "cell_type": "code",
   "execution_count": 53,
   "metadata": {},
   "outputs": [
    {
     "name": "stdout",
     "output_type": "stream",
     "text": [
      "<class 'pandas.core.panel.Panel'>\n",
      "Dimensions: 2 (items) x 4 (major_axis) x 5 (minor_axis)\n",
      "Items axis: 0 to 1\n",
      "Major_axis axis: 0 to 3\n",
      "Minor_axis axis: 0 to 4\n"
     ]
    }
   ],
   "source": [
    "#----------------------------------------------------\n",
    "data = np.random.rand(2,4,5)\n",
    "p = pd.Panel(data)\n",
    "print(p)"
   ]
  },
  {
   "cell_type": "code",
   "execution_count": 54,
   "metadata": {},
   "outputs": [
    {
     "name": "stdout",
     "output_type": "stream",
     "text": [
      "          0         1         2         3         4\n",
      "0  0.566227  0.840255  0.497280  0.035067  0.472285\n",
      "1  0.833978  0.245557  0.325105  0.362387  0.781824\n",
      "2  0.277406  0.440616  0.992212  0.091301  0.414586\n",
      "3  0.734579  0.814396  0.600397  0.523570  0.021103\n"
     ]
    }
   ],
   "source": [
    "print(p[0])"
   ]
  },
  {
   "cell_type": "code",
   "execution_count": 55,
   "metadata": {},
   "outputs": [
    {
     "name": "stdout",
     "output_type": "stream",
     "text": [
      "          0         1         2         3         4\n",
      "0  0.031333  0.328254  0.574762  0.117367  0.297481\n",
      "1  0.650257  0.347485  0.460098  0.022143  0.077354\n",
      "2  0.702992  0.553149  0.376494  0.216233  0.246930\n",
      "3  0.660752  0.287013  0.853902  0.326006  0.526321\n"
     ]
    }
   ],
   "source": [
    "print(p[1])"
   ]
  },
  {
   "cell_type": "code",
   "execution_count": 56,
   "metadata": {},
   "outputs": [
    {
     "name": "stdout",
     "output_type": "stream",
     "text": [
      "<class 'pandas.core.panel.Panel'>\n",
      "Dimensions: 2 (items) x 4 (major_axis) x 3 (minor_axis)\n",
      "Items axis: Item1 to Item2\n",
      "Major_axis axis: 0 to 3\n",
      "Minor_axis axis: 0 to 2\n"
     ]
    }
   ],
   "source": [
    "#-------------------From dict of DataFrame objects----------------\n",
    "data = {'Item1':pd.DataFrame(np.random.randn(4,3)),'Item2':pd.DataFrame(np.random.randn(4,2))}\n",
    "p = pd.Panel(data)\n",
    "print(p)"
   ]
  },
  {
   "cell_type": "code",
   "execution_count": 57,
   "metadata": {},
   "outputs": [
    {
     "name": "stdout",
     "output_type": "stream",
     "text": [
      "          0         1         2\n",
      "0  0.064530 -0.340025  1.588553\n",
      "1  0.211556  1.167225  0.118199\n",
      "2  0.714443  0.712447  0.913156\n",
      "3 -0.818425 -0.200186  0.506151\n"
     ]
    }
   ],
   "source": [
    "#---------------------Using Items----------------------\n",
    "print(p['Item1'])"
   ]
  },
  {
   "cell_type": "code",
   "execution_count": 58,
   "metadata": {},
   "outputs": [
    {
     "name": "stdout",
     "output_type": "stream",
     "text": [
      "          0         1   2\n",
      "0 -0.555046  0.093118 NaN\n",
      "1  1.299934  0.161448 NaN\n",
      "2  1.433774  0.087613 NaN\n",
      "3 -0.812590 -0.173795 NaN\n"
     ]
    }
   ],
   "source": [
    "print(p['Item2'])"
   ]
  },
  {
   "cell_type": "code",
   "execution_count": 59,
   "metadata": {},
   "outputs": [
    {
     "name": "stdout",
     "output_type": "stream",
     "text": [
      "      Item1     Item2\n",
      "0  0.211556  1.299934\n",
      "1  1.167225  0.161448\n",
      "2  0.118199       NaN\n"
     ]
    }
   ],
   "source": [
    "#-------------Using major_axis------------------------\n",
    "print(p.major_xs(1))"
   ]
  },
  {
   "cell_type": "code",
   "execution_count": 60,
   "metadata": {},
   "outputs": [
    {
     "name": "stdout",
     "output_type": "stream",
     "text": [
      "      Item1     Item2\n",
      "0 -0.340025  0.093118\n",
      "1  1.167225  0.161448\n",
      "2  0.712447  0.087613\n",
      "3 -0.200186 -0.173795\n"
     ]
    }
   ],
   "source": [
    "#-------------------------Using minor_axis------------------\n",
    "print(p.minor_xs(1))"
   ]
  },
  {
   "cell_type": "code",
   "execution_count": 80,
   "metadata": {},
   "outputs": [],
   "source": [
    "#-------------------------------------------------------------\n",
    "from matplotlib import pyplot as plt\n",
    "datan = np.random.randn(100)\n",
    "datau = np.random.rand(100)"
   ]
  },
  {
   "cell_type": "code",
   "execution_count": 81,
   "metadata": {},
   "outputs": [
    {
     "data": {
      "image/png": "[encoded data removed]",
      "text/plain": [
       "<matplotlib.figure.Figure at 0x261f644a2e8>"
      ]
     },
     "metadata": {},
     "output_type": "display_data"
    }
   ],
   "source": [
    "plt.hist(datan,histtype='step')\n",
    "plt.hist(datau,histtype='step')\n",
    "plt.show()"
   ]
  },
  {
   "cell_type": "code",
   "execution_count": 82,
   "metadata": {},
   "outputs": [
    {
     "data": {
      "image/png": "[encoded data removed]",
      "text/plain": [
       "<matplotlib.figure.Figure at 0x261f652b358>"
      ]
     },
     "metadata": {},
     "output_type": "display_data"
    }
   ],
   "source": [
    "plt.hist(datan,histtype='bar')\n",
    "plt.hist(datau,histtype='bar')\n",
    "plt.show()"
   ]
  },
  {
   "cell_type": "code",
   "execution_count": null,
   "metadata": {
    "collapsed": true
   },
   "outputs": [],
   "source": []
  },
  {
   "cell_type": "code",
   "execution_count": null,
   "metadata": {
    "collapsed": true
   },
   "outputs": [],
   "source": []
  },
  {
   "cell_type": "code",
   "execution_count": null,
   "metadata": {
    "collapsed": true
   },
   "outputs": [],
   "source": []
  },
  {
   "cell_type": "code",
   "execution_count": null,
   "metadata": {
    "collapsed": true
   },
   "outputs": [],
   "source": []
  },
  {
   "cell_type": "code",
   "execution_count": null,
   "metadata": {
    "collapsed": true
   },
   "outputs": [],
   "source": []
  },
  {
   "cell_type": "code",
   "execution_count": null,
   "metadata": {
    "collapsed": true
   },
   "outputs": [],
   "source": []
  },
  {
   "cell_type": "code",
   "execution_count": null,
   "metadata": {
    "collapsed": true
   },
   "outputs": [],
   "source": []
  }
 ],
 "metadata": {
  "kernelspec": {
   "display_name": "Python 3",
   "language": "python",
   "name": "python3"
  },
  "language_info": {
   "codemirror_mode": {
    "name": "ipython",
    "version": 3
   },
   "file_extension": ".py",
   "mimetype": "text/x-python",
   "name": "python",
   "nbconvert_exporter": "python",
   "pygments_lexer": "ipython3",
   "version": "3.6.3"
  }
 },
 "nbformat": 4,
 "nbformat_minor": 2
}
